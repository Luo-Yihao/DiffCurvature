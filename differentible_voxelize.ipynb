{
 "cells": [
  {
   "cell_type": "code",
   "execution_count": 1,
   "metadata": {},
   "outputs": [],
   "source": [
    "import os\n",
    "import sys\n",
    "\n",
    "import numpy as np\n",
    "\n",
    "import torch\n",
    "import pytorch3d\n",
    "from pytorch3d.io import load_obj, save_obj, load_objs_as_meshes\n",
    "from pytorch3d.structures import Meshes, Pointclouds\n",
    "from pytorch3d.ops import sample_points_from_meshes, knn_points, estimate_pointcloud_normals, knn_gather, cubify\n",
    "\n",
    "import trimesh\n",
    "\n",
    "\n",
    "from mpl_toolkits.mplot3d import Axes3D\n",
    "import matplotlib.pyplot as plt\n",
    "\n",
    "import pyvista as pv\n",
    "pv.start_xvfb()\n",
    "pv.set_jupyter_backend('html')\n",
    "\n",
    "import torch\n",
    "import pytorch3d \n",
    "from pytorch3d.ops import knn_points,knn_gather\n",
    "# # from pytorch3d.structures import Meshes\n",
    "\n",
    "# from .utils import one_hot_sparse\n"
   ]
  },
  {
   "cell_type": "code",
   "execution_count": 2,
   "metadata": {},
   "outputs": [],
   "source": [
    "from ops.mesh_geometry import *"
   ]
  },
  {
   "cell_type": "code",
   "execution_count": 3,
   "metadata": {},
   "outputs": [
    {
     "name": "stderr",
     "output_type": "stream",
     "text": [
      "/home/yihao/anaconda3/envs/geometery3d/lib/python3.9/site-packages/pytorch3d/io/obj_io.py:544: UserWarning: No mtl file provided\n",
      "  warnings.warn(\"No mtl file provided\")\n"
     ]
    }
   ],
   "source": [
    "device = torch.device(\"cuda:0\")\n",
    "mesh_trg = load_objs_as_meshes([\"kitty.obj\"], device=device)\n",
    "\n",
    "bbox = mesh_trg.get_bounding_boxes()\n",
    "center = (bbox[:, :, 0] + bbox[:, :, 1]) / 2\n",
    "size = (bbox[:, :, 1] - bbox[:, :, 0]) \n",
    "rescalar = 1.3\n",
    "scale = 2.0 / (torch.max(size)*rescalar+1e-8)\n",
    "\n",
    "mesh_trg = mesh_trg.update_padded((mesh_trg.verts_padded()-center)*scale+center)"
   ]
  },
  {
   "cell_type": "code",
   "execution_count": 4,
   "metadata": {},
   "outputs": [
    {
     "name": "stderr",
     "output_type": "stream",
     "text": [
      "/home/yihao/anaconda3/envs/geometery3d/lib/python3.9/site-packages/torch/functional.py:504: UserWarning: torch.meshgrid: in an upcoming release, it will be required to pass the indexing argument. (Triggered internally at /opt/conda/conda-bld/pytorch_1682343997789/work/aten/src/ATen/native/TensorShape.cpp:3483.)\n",
      "  return _VF.meshgrid(tensors, **kwargs)  # type: ignore[attr-defined]\n"
     ]
    }
   ],
   "source": [
    "\n",
    "voxelizer = Differentiable_Voxelizer(bbox_density=128)\n",
    "voxel_trg = voxelizer.forward(mesh_trg, output_resolution=128)\n",
    "\n",
    "\n",
    "cubified = cubify(voxel_trg, 0.5)"
   ]
  },
  {
   "cell_type": "code",
   "execution_count": 5,
   "metadata": {},
   "outputs": [
    {
     "data": {
      "text/plain": [
       "<matplotlib.image.AxesImage at 0x7f3a0b02c130>"
      ]
     },
     "execution_count": 5,
     "metadata": {},
     "output_type": "execute_result"
    },
    {
     "data": {
      "image/png": "[encoded data removed]",
      "text/plain": [
       "<Figure size 640x480 with 1 Axes>"
      ]
     },
     "metadata": {},
     "output_type": "display_data"
    }
   ],
   "source": [
    "plt.imshow(voxel_trg[0,50].detach().cpu().numpy())"
   ]
  },
  {
   "cell_type": "code",
   "execution_count": 6,
   "metadata": {},
   "outputs": [
    {
     "data": {
      "application/vnd.jupyter.widget-view+json": {
       "model_id": "617dae60a3c240ee92aa35dad7ee1942",
       "version_major": 2,
       "version_minor": 0
      },
      "text/plain": [
       "EmbeddableWidget(value='<iframe srcdoc=\"<!DOCTYPE html>\\n<html>\\n  <head>\\n    <meta http-equiv=&quot;Content-…"
      ]
     },
     "metadata": {},
     "output_type": "display_data"
    }
   ],
   "source": [
    "pl = pv.Plotter(notebook=True)\n",
    "trimesh_cubified = trimesh.Trimesh(cubified[0].verts_packed().detach().cpu().numpy(), cubified[0].faces_packed().detach().cpu().numpy())\n",
    "trimesh_cubified = pv.wrap(trimesh_cubified)\n",
    "pl.add_mesh(trimesh_cubified, color='lightblue', style='wireframe')\n",
    "\n",
    "trimesh_trg = trimesh.Trimesh(mesh_trg[0].verts_packed().detach().cpu().numpy(), mesh_trg[0].faces_packed().detach().cpu().numpy())\n",
    "trimesh_trg = pv.wrap(trimesh_trg)\n",
    "pl.add_mesh(trimesh_trg, color='lightgreen', opacity=0.3)\n",
    "\n",
    "pl.show()"
   ]
  },
  {
   "cell_type": "code",
   "execution_count": null,
   "metadata": {},
   "outputs": [],
   "source": []
  },
  {
   "cell_type": "code",
   "execution_count": null,
   "metadata": {},
   "outputs": [],
   "source": []
  }
 ],
 "metadata": {
  "kernelspec": {
   "display_name": "geometery3d",
   "language": "python",
   "name": "python3"
  },
  "language_info": {
   "codemirror_mode": {
    "name": "ipython",
    "version": 3
   },
   "file_extension": ".py",
   "mimetype": "text/x-python",
   "name": "python",
   "nbconvert_exporter": "python",
   "pygments_lexer": "ipython3",
   "version": "3.9.18"
  }
 },
 "nbformat": 4,
 "nbformat_minor": 2
}
