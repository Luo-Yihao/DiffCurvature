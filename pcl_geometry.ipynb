{
 "cells": [
  {
   "cell_type": "code",
   "execution_count": 52,
   "metadata": {},
   "outputs": [],
   "source": [
    "import os\n",
    "import sys\n",
    "\n",
    "import numpy as np\n",
    "\n",
    "import torch\n",
    "import torch.nn as nn\n",
    "import torch.nn.functional as F\n",
    "import pytorch3d\n",
    "from pytorch3d.io import load_obj, save_obj, load_objs_as_meshes\n",
    "from pytorch3d.structures import Meshes, Pointclouds\n",
    "from pytorch3d.ops import sample_points_from_meshes, knn_points, estimate_pointcloud_normals, knn_gather, cubify\n",
    "\n",
    "import trimesh\n",
    "\n",
    "from torch_scatter import scatter\n",
    "\n",
    "from mpl_toolkits.mplot3d import Axes3D\n",
    "import matplotlib.pyplot as plt\n",
    "\n",
    "import pyvista as pv\n",
    "pv.start_xvfb()\n",
    "pv.set_jupyter_backend('html')\n",
    "\n",
    "import torch\n",
    "import pytorch3d \n",
    "from pytorch3d.ops import knn_points,knn_gather\n",
    "from pytorch3d.transforms import axis_angle_to_matrix, matrix_to_axis_angle\n",
    "\n",
    "\n",
    "from tqdm import tqdm\n",
    "\n",
    "from pytorch3d.utils import ico_sphere\n",
    "\n",
    "# # from pytorch3d.structures import Meshes\n",
    "\n",
    "# from .utils import one_hot_sparse\n"
   ]
  },
  {
   "cell_type": "code",
   "execution_count": 53,
   "metadata": {},
   "outputs": [],
   "source": [
    "from ops.mesh_geometry import *\n",
    "from ops.pcl_geometry import *"
   ]
  },
  {
   "cell_type": "code",
   "execution_count": 62,
   "metadata": {},
   "outputs": [
    {
     "name": "stderr",
     "output_type": "stream",
     "text": [
      "/home/yihao/anaconda3/envs/geometery3d/lib/python3.9/site-packages/pytorch3d/io/obj_io.py:544: UserWarning: No mtl file provided\n",
      "  warnings.warn(\"No mtl file provided\")\n"
     ]
    }
   ],
   "source": [
    "device = torch.device(\"cuda:0\")\n",
    "\n",
    "\n",
    "trg_mesh = load_objs_as_meshes([\"kitty.obj\"], device=device)\n",
    "\n",
    "# trg_mesh = ico_sphere(5, device)\n",
    "\n",
    "\n",
    "\n",
    "trg_mesh = normalize_mesh(trg_mesh)"
   ]
  },
  {
   "cell_type": "code",
   "execution_count": 63,
   "metadata": {},
   "outputs": [],
   "source": [
    "\n",
    "voxelizer = Differentiable_Voxelizer(bbox_density=128)\n",
    "voxel_trg = voxelizer.forward(trg_mesh, output_resolution=128)\n",
    "\n",
    "\n",
    "# cubified = cubify(voxel_trg, 0.5)"
   ]
  },
  {
   "cell_type": "code",
   "execution_count": 64,
   "metadata": {},
   "outputs": [],
   "source": [
    "inside_points = torch.where(voxel_trg[0] > 0.5)\n",
    "outside_points = torch.where(voxel_trg[0] < 0.5)\n",
    "\n",
    "window_size = voxel_trg.shape[1:]\n",
    "inside_points = torch.stack([inside_points[2]*2/(window_size[2]-1)-1, inside_points[1]*2/(window_size[1]-1)-1, inside_points[0]*2/(window_size[0]-1)-1], dim=-1)\n",
    "outside_points = torch.stack([outside_points[2]*2/(window_size[2]-1)-1, outside_points[1]*2/(window_size[1]-1)-1, outside_points[0]*2/(window_size[0]-1)-1], dim=-1)\n"
   ]
  },
  {
   "cell_type": "code",
   "execution_count": 65,
   "metadata": {},
   "outputs": [],
   "source": [
    "num_samples = 100000\n",
    "pointscloud, normals_gt = sample_points_from_meshes(trg_mesh, num_samples, return_normals=True)"
   ]
  },
  {
   "cell_type": "code",
   "execution_count": 66,
   "metadata": {},
   "outputs": [],
   "source": [
    "pcl_with_frames = Differentiable_Global_Geometry_PointCloud(pointscloud, k = 10)\n",
    "\n",
    "\n",
    "curvature = pcl_with_frames.gaussian_curvature().view(-1)\n",
    "\n",
    "area = pcl_with_frames.local_voronoi_area().view(-1)\n",
    "\n"
   ]
  },
  {
   "cell_type": "code",
   "execution_count": 67,
   "metadata": {},
   "outputs": [
    {
     "name": "stdout",
     "output_type": "stream",
     "text": [
      "Estimated Genus 1.0\n",
      "Estimated euler tensor(0.1277, device='cuda:0')\n",
      "Estimated Genus 1.0\n",
      "Estimated euler tensor(0.1443, device='cuda:0')\n",
      "Estimated Genus 1.0\n",
      "Estimated euler tensor(0.1536, device='cuda:0')\n",
      "Estimated Genus 1.0\n",
      "Estimated euler tensor(0.1915, device='cuda:0')\n",
      "Estimated Genus 1.0\n",
      "Estimated euler tensor(0.2114, device='cuda:0')\n",
      "Estimated Genus 1.0\n",
      "Estimated euler tensor(0.2747, device='cuda:0')\n"
     ]
    }
   ],
   "source": [
    "for i in range(3,9):\n",
    "    pcl_with_frames = Differentiable_Global_Geometry_PointCloud(pointscloud, k = 10*i)\n",
    "    print('Estimated Genus',  1-torch.round(pcl_with_frames.differentiable_euler_number()).item()/2)\n",
    "\n",
    "    print('Estimated euler',  pcl_with_frames.differentiable_euler_number())\n",
    "\n",
    "# parametric stability"
   ]
  },
  {
   "cell_type": "code",
   "execution_count": 68,
   "metadata": {},
   "outputs": [
    {
     "data": {
      "application/vnd.jupyter.widget-view+json": {
       "model_id": "28ca14c80bed417083075914716d8a97",
       "version_major": 2,
       "version_minor": 0
      },
      "text/plain": [
       "EmbeddableWidget(value='<iframe srcdoc=\"<!DOCTYPE html>\\n<html>\\n  <head>\\n    <meta http-equiv=&quot;Content-…"
      ]
     },
     "metadata": {},
     "output_type": "display_data"
    }
   ],
   "source": [
    "pl = pv.Plotter(notebook=True)\n",
    "rescaled_curv = torch.tanh(curvature*area*200)\n",
    "pl.add_points(pcl_with_frames.pointscloud.detach().cpu().numpy()[0], scalars=rescaled_curv.detach().cpu().numpy(), point_size=5,cmap=\"viridis\")\n",
    "\n",
    "pl.show()"
   ]
  },
  {
   "cell_type": "code",
   "execution_count": 69,
   "metadata": {},
   "outputs": [],
   "source": [
    "## differentiable optimization \n",
    "\n",
    "\n",
    "# frames_field_axis_angle = matrix_to_axis_angle(pcl_with_frames.frames_field)\n",
    "# frames_field_axis_angle.requires_grad = True\n",
    "\n",
    "# optimizer = torch.optim.AdamW([frames_field_axis_angle], lr=1e-1)\n",
    "# scheduler = torch.optim.lr_scheduler.StepLR(optimizer, step_size=2000, gamma=0.5)\n",
    "\n",
    "\n",
    "# loop = tqdm(range(1000))\n",
    "\n",
    "# for epoch in loop:\n",
    "\n",
    "#     optimizer.zero_grad()\n",
    "\n",
    "#     frames_field = axis_angle_to_matrix(frames_field_axis_angle)\n",
    "\n",
    "#     normals_field = frames_field[:,:,0:1,:]\n",
    "#     tangent1_field = frames_field[:,:,1:2,:]\n",
    "#     tangent2_field = frames_field[:,:,2:3,:]\n",
    "\n",
    "#     local_pt_difference = pcl_with_frames.knn_info.knn - pcl_with_frames.pointscloud[:,:,None,:] # B x N x K x 3\n",
    "\n",
    "#     voronoi_area_list = pcl_with_frames.local_voronoi_area(frames_field)\n",
    "\n",
    "#     # euler = pcl_with_frames.differentiable_euler_number(frames_field)\n",
    "\n",
    "\n",
    "\n",
    "#     # # project the difference onto the tangent plane, getting the differential of the gaussian map\n",
    "#     # local_dpt_tangent1 = (local_pt_difference * tangent1_field).sum(-1,keepdim=True)\n",
    "#     # local_dpt_tangent2 = (local_pt_difference * tangent2_field).sum(-1,keepdim=True)\n",
    "\n",
    "\n",
    "#     Loss_perpendicular = (local_pt_difference * normals_field).sum(-1,keepdim=True)\n",
    "\n",
    "#     Loss_perpendicular = F.mse_loss(Loss_perpendicular, torch.zeros_like(Loss_perpendicular))\n",
    "\n",
    "\n",
    "\n",
    "#     patch_size = 2000\n",
    "\n",
    "    \n",
    "\n",
    "    \n",
    "#     try:\n",
    "#         winding_number_field_inside = (Electric_strength(inside_points_sampled, pcl_with_frames.pointscloud.view(-1,3))*normals_field[:,:,0,:]).sum(-1,keepdim=True)\n",
    "\n",
    "#         winding_number_field_inside = (winding_number_field_inside*voronoi_area_list).sum(-2)/np.pi/4\n",
    "    \n",
    "#     except:\n",
    "#         winding_number_field_inside = torch.zeros_like(inside_points_sampled[:,0:1])\n",
    "#         for i in range(pcl_with_frames.pointscloud.shape[1]//patch_size+1):\n",
    "#             winding_number_field_inside_temp = (Electric_strength(inside_points_sampled, pcl_with_frames.pointscloud[:,i*patch_size:(i+1)*patch_size].view(-1,3))*frames_field[:,i*patch_size:(i+1)*patch_size,0,:]).sum(-1,keepdim=True)\n",
    "#             winding_number_field_inside_temp = (winding_number_field_inside_temp*voronoi_area_list[:,i*patch_size:(i+1)*patch_size]).sum(-2)/np.pi/4\n",
    "\n",
    "#             winding_number_field_inside += winding_number_field_inside_temp\n",
    "\n",
    "    \n",
    "    \n",
    "#     try:\n",
    "#         winding_number_field_outside = (Electric_strength(outside_points_sampled, pcl_with_frames.pointscloud.view(-1,3))*normals_field[:,:,0,:]).sum(-1,keepdim=True)\n",
    "\n",
    "#         winding_number_field_outside = (winding_number_field_outside*voronoi_area_list).sum(-2)/np.pi/4\n",
    "#     except:\n",
    "#         winding_number_field_outside = torch.zeros_like(outside_points_sampled[:,0:1])\n",
    "#         for i in range(pcl_with_frames.pointscloud.shape[1]//patch_size+1):\n",
    "#             winding_number_field_outside_temp = (Electric_strength(outside_points_sampled, pcl_with_frames.pointscloud[:,i*patch_size:(i+1)*patch_size].view(-1,3))*frames_field[:,i*patch_size:(i+1)*patch_size,0,:]).sum(-1,keepdim=True)\n",
    "#             winding_number_field_outside_temp = (winding_number_field_outside_temp*voronoi_area_list[:,i*patch_size:(i+1)*patch_size]).sum(-2)/np.pi/4\n",
    "\n",
    "#             winding_number_field_outside += winding_number_field_outside_temp\n",
    "\n",
    "\n",
    "\n",
    "#     Loss_occupancy = F.mse_loss(winding_number_field_inside, torch.ones_like(winding_number_field_inside)) + F.mse_loss(winding_number_field_outside, torch.zeros_like(winding_number_field_outside))\n",
    "\n",
    "\n",
    "\n",
    "\n",
    "\n",
    "\n",
    "#     local_normals_difference = knn_gather(normals_field.squeeze(-2),pcl_with_frames.knn_info.idx) - normals_field\n",
    "#     # project the difference onto the tangent plane, getting the differential of the gaussian map\n",
    "\n",
    "#     # Loss_normal_consistency = F.mse_loss(knn_gather(normals_field,knn_info.idx) - knn_gather(normals_field,knn_info.idx).mean(-2,keepdim=True), torch.zeros_like(knn_gather(normals_field,knn_info.idx)))\n",
    "\n",
    "\n",
    "#     Loss_perpendicular_normals = (local_normals_difference * normals_field).sum(-1,keepdim=True)\n",
    "#     Loss_perpendicular_normals = F.mse_loss(Loss_perpendicular_normals, torch.zeros_like(Loss_perpendicular_normals))\n",
    "\n",
    " \n",
    "\n",
    "#     # Loss_euler = torch.sin(np.pi*euler-np.pi/2)+1 # a closed orientatiable manifold has even euler number\n",
    "\n",
    "\n",
    "#     Loss = Loss_occupancy  \n",
    "#     # +  1e-6*Loss_euler + 0.05*Loss_normal_consistency + 0.1*Loss_perpendicular_normals + 0.1*Loss_tangent_dnormal\n",
    "\n",
    "\n",
    "#     if epoch%20  == 0:\n",
    "#         eulers = pcl_with_frames.differentiable_euler_number(frames_field)\n",
    "\n",
    "#     loop.set_description('Loss: {:.4f}'.format(Loss.item())+', area: {:.4f}'.format(voronoi_area_list.sum().item())+', euler: {:.4f}'.format(eulers.sum().item()))\n",
    "\n",
    "    \n",
    "#     Loss.backward()\n",
    "#     optimizer.step()\n",
    "#     scheduler.step()\n",
    "\n",
    "\n",
    "\n",
    "    "
   ]
  },
  {
   "cell_type": "markdown",
   "metadata": {},
   "source": []
  },
  {
   "cell_type": "code",
   "execution_count": null,
   "metadata": {},
   "outputs": [],
   "source": [
    "# pointscloud_np = pointscloud[0].detach().cpu().numpy()\n",
    "\n",
    "# # visualize the moving frame \n",
    "# pl = pv.Plotter(notebook=True)\n",
    "# # pl.add_points(trg_mesh.verts_packed().detach().cpu().numpy(), color='r', opacity = 0)\n",
    "\n",
    "# # pl.add_points(inside_points.detach().cpu().numpy(), color='g', opacity = 0.2)\n",
    "# pl.add_mesh(trg_trimesh, color='lightgreen', opacity=0.2)\n",
    "\n",
    "\n",
    "# pl.add_arrows(pointscloud_np, frames_field[0,:,0,:].detach().cpu().numpy(), color='b', opacity=0.2, mag=0.05)\n",
    "\n",
    "\n",
    "# pl.show()"
   ]
  }
 ],
 "metadata": {
  "kernelspec": {
   "display_name": "geometery3d",
   "language": "python",
   "name": "python3"
  },
  "language_info": {
   "codemirror_mode": {
    "name": "ipython",
    "version": 3
   },
   "file_extension": ".py",
   "mimetype": "text/x-python",
   "name": "python",
   "nbconvert_exporter": "python",
   "pygments_lexer": "ipython3",
   "version": "3.9.18"
  }
 },
 "nbformat": 4,
 "nbformat_minor": 2
}
