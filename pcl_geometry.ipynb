{
 "cells": [
  {
   "cell_type": "code",
   "execution_count": 24,
   "metadata": {},
   "outputs": [],
   "source": [
    "import os\n",
    "import sys\n",
    "\n",
    "import numpy as np\n",
    "\n",
    "import torch\n",
    "import torch.nn as nn\n",
    "import torch.nn.functional as F\n",
    "import pytorch3d\n",
    "from pytorch3d.io import load_obj, save_obj, load_objs_as_meshes\n",
    "from pytorch3d.structures import Meshes, Pointclouds\n",
    "from pytorch3d.ops import sample_points_from_meshes, knn_points, estimate_pointcloud_normals, knn_gather, cubify, SubdivideMeshes\n",
    "\n",
    "import trimesh\n",
    "\n",
    "from torch_scatter import scatter\n",
    "\n",
    "from mpl_toolkits.mplot3d import Axes3D\n",
    "\n",
    "import matplotlib.pyplot as plt\n",
    "\n",
    "import pyvista as pv\n",
    "pv.start_xvfb()\n",
    "pv.set_jupyter_backend('html')\n",
    "\n",
    "import torch\n",
    "import pytorch3d \n",
    "from pytorch3d.ops import knn_points,knn_gather\n",
    "from pytorch3d.transforms import axis_angle_to_matrix, matrix_to_axis_angle\n",
    "\n",
    "\n",
    "from tqdm import tqdm\n",
    "\n",
    "from pytorch3d.utils import ico_sphere\n",
    "\n",
    "# # from pytorch3d.structures import Meshes\n",
    "\n",
    "# from .utils import one_hot_sparse\n"
   ]
  },
  {
   "cell_type": "code",
   "execution_count": 25,
   "metadata": {},
   "outputs": [],
   "source": [
    "from ops.mesh_geometry import *\n",
    "from ops.pcl_geometry import *"
   ]
  },
  {
   "cell_type": "code",
   "execution_count": 26,
   "metadata": {},
   "outputs": [],
   "source": [
    "device = torch.device(\"cuda:1\")\n",
    "\n",
    "\n",
    "trg_mesh = load_objs_as_meshes([\"./dataset/org_data/Hilb64Thick.obj\"], device=device)\n",
    "\n",
    "# trg_mesh = ico_sphere(5, device)\n",
    "trg_mesh = SubdivideMeshes().forward(trg_mesh)[0]\n",
    "\n",
    "trg_mesh = normalize_mesh(trg_mesh)"
   ]
  },
  {
   "cell_type": "code",
   "execution_count": 27,
   "metadata": {},
   "outputs": [
    {
     "data": {
      "text/plain": [
       "0"
      ]
     },
     "execution_count": 27,
     "metadata": {},
     "output_type": "execute_result"
    }
   ],
   "source": [
    "trimesh.Trimesh(trg_mesh.verts_packed().detach().cpu().numpy(), trg_mesh.faces_packed().detach().cpu().numpy()).euler_number"
   ]
  },
  {
   "cell_type": "code",
   "execution_count": 28,
   "metadata": {},
   "outputs": [
    {
     "data": {
      "text/plain": [
       "['spherical_rind_shape_wide_strips.obj',\n",
       " 'ChicagoLion.obj',\n",
       " 'holes_human.obj',\n",
       " 'TriakisTetrahedron.obj',\n",
       " 'art_print3d.obj',\n",
       " 'OrganicSphere.obj',\n",
       " 'Hilb64Thick.obj',\n",
       " 'quirrel.obj',\n",
       " 'ico_4.obj',\n",
       " 'Knot.obj',\n",
       " 'Venus.obj',\n",
       " 'DeltoidalIcositetrahedron.obj',\n",
       " 'kitten.obj',\n",
       " 'Hundepaar.obj',\n",
       " 'TeaPot.obj',\n",
       " 'Bunny.obj',\n",
       " 'father_remesh.obj',\n",
       " 'QueenAnneChair.obj',\n",
       " 'art_print3d2.obj',\n",
       " 'Mushroom.obj',\n",
       " 'genus_6_surface.obj',\n",
       " 'holes_human copy.obj']"
      ]
     },
     "execution_count": 28,
     "metadata": {},
     "output_type": "execute_result"
    }
   ],
   "source": [
    "folder = '/home/yihao/data/Torch3d_Curvature/dataset/org_data'\n",
    "model_list = os.listdir(folder)\n",
    "model_list"
   ]
  },
  {
   "cell_type": "code",
   "execution_count": 29,
   "metadata": {},
   "outputs": [],
   "source": [
    "# model_list = [\n",
    "#  'ChicagoLion.obj',]"
   ]
  },
  {
   "cell_type": "code",
   "execution_count": 34,
   "metadata": {},
   "outputs": [
    {
     "name": "stdout",
     "output_type": "stream",
     "text": [
      "spherical_rind_shape_wide_strips\n",
      "GT euler -12 GT Genus 7.0\n",
      "Estimated euler 2.6326165199279785\n",
      "Estimated Genus -0.0\n",
      "Estimated euler wo normals -3.0323092937469482\n",
      "Estimated Genus wo normals 3.0\n",
      "=========================================\n",
      "ChicagoLion\n",
      "GT euler -4 GT Genus 3.0\n",
      "Estimated euler -1.8742891550064087\n",
      "Estimated Genus 2.0\n",
      "Estimated euler wo normals -7.28520393371582\n",
      "Estimated Genus wo normals 5.0\n",
      "=========================================\n",
      "holes_human\n",
      "GT euler -402 GT Genus 202.0\n",
      "Estimated euler -73.37776184082031\n",
      "Estimated Genus 38.0\n",
      "Estimated euler wo normals -59.349735260009766\n",
      "Estimated Genus wo normals 31.0\n",
      "=========================================\n",
      "TriakisTetrahedron\n",
      "GT euler -20 GT Genus 11.0\n",
      "Estimated euler 2.272629499435425\n",
      "Estimated Genus -0.0\n",
      "Estimated euler wo normals -3.424680471420288\n",
      "Estimated Genus wo normals 3.0\n",
      "=========================================\n",
      "art_print3d\n",
      "GT euler -102 GT Genus 52.0\n",
      "Estimated euler -23.39022445678711\n",
      "Estimated Genus 13.0\n",
      "Estimated euler wo normals -53.00949478149414\n",
      "Estimated Genus wo normals 28.0\n",
      "=========================================\n",
      "OrganicSphere\n",
      "GT euler 2 GT Genus 0.0\n",
      "Estimated euler 1.4171825647354126\n",
      "Estimated Genus 0.0\n",
      "Estimated euler wo normals -0.23898322880268097\n",
      "Estimated Genus wo normals 1.0\n",
      "=========================================\n",
      "Hilb64Thick\n",
      "GT euler 0 GT Genus 1.0\n",
      "Estimated euler 3.3942439556121826\n",
      "Estimated Genus -1.0\n",
      "Estimated euler wo normals 2.5862319469451904\n",
      "Estimated Genus wo normals -0.0\n",
      "=========================================\n",
      "quirrel\n",
      "GT euler 2 GT Genus 0.0\n",
      "Estimated euler 1.3475489616394043\n",
      "Estimated Genus 0.0\n",
      "Estimated euler wo normals -1.8331173658370972\n",
      "Estimated Genus wo normals 2.0\n",
      "=========================================\n",
      "ico_4\n",
      "GT euler 2 GT Genus 0.0\n",
      "Estimated euler 1.952325463294983\n",
      "Estimated Genus 0.0\n",
      "Estimated euler wo normals 1.2292110919952393\n",
      "Estimated Genus wo normals 0.0\n",
      "=========================================\n",
      "Knot\n",
      "GT euler 0 GT Genus 1.0\n",
      "Estimated euler -2.547498941421509\n",
      "Estimated Genus 2.0\n",
      "Estimated euler wo normals -3.679543972015381\n",
      "Estimated Genus wo normals 3.0\n",
      "=========================================\n",
      "Venus\n",
      "GT euler 2 GT Genus 0.0\n",
      "Estimated euler -0.6075085997581482\n",
      "Estimated Genus 1.0\n",
      "Estimated euler wo normals -3.0857508182525635\n",
      "Estimated Genus wo normals 3.0\n",
      "=========================================\n",
      "DeltoidalIcositetrahedron\n",
      "GT euler -44 GT Genus 23.0\n",
      "Estimated euler 5.39767599105835\n",
      "Estimated Genus -2.0\n",
      "Estimated euler wo normals -5.145824432373047\n",
      "Estimated Genus wo normals 4.0\n",
      "=========================================\n",
      "kitten\n",
      "GT euler 0 GT Genus 1.0\n",
      "Estimated euler -0.11313942074775696\n",
      "Estimated Genus 1.0\n",
      "Estimated euler wo normals -3.6415517330169678\n",
      "Estimated Genus wo normals 3.0\n",
      "=========================================\n",
      "Hundepaar\n",
      "GT euler -8 GT Genus 5.0\n",
      "Estimated euler -211.86317443847656\n",
      "Estimated Genus 107.0\n",
      "Estimated euler wo normals -511.84246826171875\n",
      "Estimated Genus wo normals 257.0\n",
      "=========================================\n",
      "TeaPot\n",
      "GT euler 0 GT Genus 1.0\n",
      "Estimated euler -3.244821786880493\n",
      "Estimated Genus 3.0\n",
      "Estimated euler wo normals -12.296103477478027\n",
      "Estimated Genus wo normals 7.0\n",
      "=========================================\n",
      "Bunny\n",
      "GT euler 2 GT Genus 0.0\n",
      "Estimated euler 1.0633249282836914\n",
      "Estimated Genus 0.0\n",
      "Estimated euler wo normals -2.417393922805786\n",
      "Estimated Genus wo normals 2.0\n",
      "=========================================\n",
      "father_remesh\n",
      "GT euler -6 GT Genus 4.0\n",
      "Estimated euler 1.2012377977371216\n",
      "Estimated Genus 0.0\n",
      "Estimated euler wo normals -3.6258885860443115\n",
      "Estimated Genus wo normals 3.0\n",
      "=========================================\n",
      "QueenAnneChair\n",
      "GT euler -2 GT Genus 2.0\n",
      "Estimated euler 1.518824815750122\n",
      "Estimated Genus 0.0\n",
      "Estimated euler wo normals -8.163948059082031\n",
      "Estimated Genus wo normals 5.0\n",
      "=========================================\n",
      "art_print3d2\n",
      "GT euler -18 GT Genus 10.0\n",
      "Estimated euler -12.158134460449219\n",
      "Estimated Genus 7.0\n",
      "Estimated euler wo normals -29.650623321533203\n",
      "Estimated Genus wo normals 16.0\n",
      "=========================================\n",
      "Mushroom\n",
      "GT euler -2 GT Genus 2.0\n",
      "Estimated euler -2.198967456817627\n",
      "Estimated Genus 2.0\n",
      "Estimated euler wo normals -6.13295841217041\n",
      "Estimated Genus wo normals 4.0\n",
      "=========================================\n",
      "genus_6_surface\n",
      "GT euler -10 GT Genus 6.0\n",
      "Estimated euler -7.626371383666992\n",
      "Estimated Genus 5.0\n",
      "Estimated euler wo normals -5.692514896392822\n",
      "Estimated Genus wo normals 4.0\n",
      "=========================================\n",
      "holes_human copy\n",
      "GT euler -402 GT Genus 202.0\n",
      "Estimated euler -74.77411651611328\n",
      "Estimated Genus 38.0\n",
      "Estimated euler wo normals -60.060691833496094\n",
      "Estimated Genus wo normals 31.0\n",
      "=========================================\n"
     ]
    }
   ],
   "source": [
    "import warnings\n",
    "warnings.filterwarnings(\"ignore\")\n",
    "\n",
    "\n",
    "device = torch.device(\"cuda:1\")\n",
    "\n",
    "for i in range(len(model_list)):\n",
    "\n",
    "    trg_mesh = load_objs_as_meshes([\"./dataset/org_data/\"+model_list[i]], device=device)\n",
    "    trg_trimesh = trimesh.Trimesh(vertices=trg_mesh.verts_packed().cpu().numpy()*np.array([[1,-1,1]]), faces=trg_mesh.faces_packed().cpu().numpy())\n",
    "\n",
    "    print(model_list[i][:-4])\n",
    "\n",
    "    # for j in range(2):\n",
    "    #     trg_mesh = SubdivideMeshes().forward(trg_mesh)[0]\n",
    "\n",
    "    trg_mesh = normalize_mesh(trg_mesh)\n",
    "\n",
    "\n",
    "    num_samples = 10000\n",
    "    \n",
    "\n",
    "    k = 30\n",
    "\n",
    "\n",
    "    pointscloud, normals_gt = sample_points_from_meshes(trg_mesh, num_samples, return_normals=True)\n",
    "\n",
    "    pointscloud = torch.cat([trg_mesh.verts_padded(), pointscloud], dim=-2)\n",
    "    pointscloud = pointscloud + torch.randn_like(pointscloud)*0.025\n",
    "    normals_gt = torch.cat([trg_mesh.verts_normals_padded(), normals_gt], dim=-2)\n",
    "\n",
    "\n",
    "    area_gt = dual_area_vertex(trg_mesh).view(-1)\n",
    "\n",
    "    pcl_with_frames = Differentiable_Global_Geometry_PointCloud(pointscloud, k = k)\n",
    "\n",
    "    frames = pcl_with_frames.frames_field.clone()\n",
    "    frames[:,:,0,:] = normals_gt\n",
    "\n",
    "    N_v = trg_mesh.num_verts_per_mesh()[0]\n",
    "\n",
    "    curvature = pcl_with_frames.gaussian_curvature(frames).view(-1)\n",
    "\n",
    "    area = pcl_with_frames.local_voronoi_area(frames).view(-1)\n",
    "\n",
    "    euler_0 = (curvature  * area).sum()/2/np.pi\n",
    "\n",
    "    euler_0 = euler_0.item()\n",
    "\n",
    "    print('GT euler', trg_trimesh.euler_number, 'GT Genus',  np.round(1-trg_trimesh.euler_number/2))\n",
    "\n",
    "    print('Estimated euler',  euler_0)\n",
    "    print('Estimated Genus',  np.round(1-euler_0/2))\n",
    "\n",
    "\n",
    "    curvature = pcl_with_frames.gaussian_curvature().view(-1)\n",
    "\n",
    "    area = pcl_with_frames.local_voronoi_area().view(-1)\n",
    "\n",
    "    euler_0 = (curvature  * area).sum()/2/np.pi\n",
    "\n",
    "    euler_0 = euler_0.item()\n",
    "\n",
    "    print('Estimated euler wo normals',  euler_0)\n",
    "    print('Estimated Genus wo normals',  np.round(1-euler_0/2))\n",
    "\n",
    "    print('=========================================')\n",
    "\n",
    "\n",
    "\n",
    "    # pl = pv.Plotter(notebook=True)\n",
    "    # curvatures_v =  np.tanh((curvature[:N_v] * area_gt*100).cpu().numpy())\n",
    "\n",
    "    # curvatures_nv =  (curvature).cpu().numpy()[N_v:]\n",
    "\n",
    "\n",
    "    # current_trimesh = trimesh.Trimesh(vertices=trg_mesh.verts_packed().cpu().numpy()*np.array([[1,-1,1]]), faces=trg_mesh.faces_packed().cpu().numpy())\n",
    "    # pointscloud = (pointscloud+normals_gt*0.005).cpu().numpy()[0, N_v:,:]*np.array([[1,-1,1]])\n",
    "    # print('euler_gt', current_trimesh.euler_number)\n",
    "    \n",
    "    # current_trimesh = pv.wrap(current_trimesh)\n",
    "    # light = pv.Light(light_type='headlight', intensity=0.6)\n",
    "    # pl.add_mesh(current_trimesh, scalars=curvatures_v, cmap='viridis', show_scalar_bar=False, clim=[-1,1], ambient=0.3, diffuse=0.6, specular=0.1,\n",
    "    #              specular_power=30, smooth_shading=True, opacity=1)\n",
    "    \n",
    "\n",
    "    # pl.add_points(pointscloud, scalars=curvatures_nv, cmap='viridis', render_points_as_spheres=True, point_size=3, show_scalar_bar=False, \n",
    "    #               clim=[-1,1], opacity=1)\n",
    "                  \n",
    "    # pl.add_light(light) \n",
    "    # pl.enable_shadows()\n",
    "    # # pl.add_title(\"Euler: %.4f\"% euler, font_size=10)\n",
    "    # pl.camera.elevation = -20\n",
    "    # pl.camera.azimuth = 10\n",
    "    # pl.show()\n",
    "    # # pl.show(screenshot='/home/yihao/data/Torch3d_Curvature/exp/our_results/'+model_list[i].split('.')[0]+'.png')\n",
    "    # pl.close()\n",
    "\n",
    "    \n",
    "\n"
   ]
  },
  {
   "cell_type": "code",
   "execution_count": 31,
   "metadata": {},
   "outputs": [
    {
     "data": {
      "text/plain": [
       "tensor([86414], device='cuda:1')"
      ]
     },
     "execution_count": 31,
     "metadata": {},
     "output_type": "execute_result"
    }
   ],
   "source": [
    "trg_mesh.num_verts_per_mesh()"
   ]
  },
  {
   "cell_type": "code",
   "execution_count": 44,
   "metadata": {},
   "outputs": [
    {
     "data": {
      "text/plain": [
       "torch.Size([1, 19076, 10, 6])"
      ]
     },
     "execution_count": 44,
     "metadata": {},
     "output_type": "execute_result"
    }
   ],
   "source": [
    "pcl_with_frames.knn_info.knn.shape"
   ]
  },
  {
   "cell_type": "code",
   "execution_count": null,
   "metadata": {},
   "outputs": [],
   "source": []
  },
  {
   "cell_type": "code",
   "execution_count": 14,
   "metadata": {},
   "outputs": [
    {
     "name": "stdout",
     "output_type": "stream",
     "text": [
      "Estimated Genus 0.0\n",
      "Estimated euler tensor(1.8232, device='cuda:1')\n",
      "Estimated Area 25.095962524414062 GT Area 25.266536712646484\n"
     ]
    },
    {
     "data": {
      "application/vnd.jupyter.widget-view+json": {
       "model_id": "eda3796e895a43d0be91121c80150b1d",
       "version_major": 2,
       "version_minor": 0
      },
      "text/plain": [
       "EmbeddableWidget(value='<iframe srcdoc=\"<!DOCTYPE html>\\n<html>\\n  <head>\\n    <meta http-equiv=&quot;Content-…"
      ]
     },
     "metadata": {},
     "output_type": "display_data"
    }
   ],
   "source": [
    "pl = pv.Plotter(notebook=True, window_size=(768,768), border=False)\n",
    "wein = pcl_with_frames.weingarten_fields()\n",
    "mean_curv = (wein[:,:,0,0] + wein[:,:,1,1])/2\n",
    "total_curv = wein.pow(2).sum(dim=(2,3)).sqrt()\n",
    "\n",
    "area = pcl_with_frames.local_voronoi_area().view(-1)\n",
    "rescaled_curv = area\n",
    "\n",
    "print('Estimated Genus',  torch.round(1-pcl_with_frames.differentiable_euler_number()[0]/2).item())\n",
    "\n",
    "print('Estimated euler',  pcl_with_frames.differentiable_euler_number()[0])\n",
    "\n",
    "print('Estimated Area',  area.sum().item(), 'GT Area', trg_mesh.faces_areas_packed().sum().item())\n",
    "\n",
    "alpha_scalars = 0.8 #- torch.exp(-torch.abs(curvature*area*5)).detach().cpu().numpy()\n",
    "\n",
    "trg_trimesh = trimesh.Trimesh(trg_mesh.verts_packed().detach().cpu().numpy(), trg_mesh.faces_packed().detach().cpu().numpy())\n",
    "\n",
    "\n",
    "# pl.add_mesh(trg_trimesh, color='lightblue', opacity=0.2)\n",
    "scalars = (torch.sigmoid((total_curv*area-0.002)*200).detach().cpu().numpy())\n",
    "\n",
    "cmap = \"bone_r\"\n",
    "\n",
    "# pl.add_mesh(trg_trimesh, scalars =scalars, cmap= cmap,\n",
    "#             opacity=1, scalar_bar_args={'title': 'Total Curvature (per Area)', 'position_x':0.2, 'position_y':0.0, 'label_font_size':0},\n",
    "#             style='surface')\n",
    "\n",
    "# pl.add_mesh(trg_trimesh, scalars= np.abs(area_gt.detach().cpu().numpy() - area.detach().cpu().numpy()), cmap= \"Reds\",\n",
    "#             opacity=1, scalar_bar_args={'title': 'Area Difference', 'position_x':0.2, 'position_y':0.0}, style='surface')\n",
    "pl.camera.roll = -20\n",
    "pl.camera.elevation = 50\n",
    "pl.camera.azimuth = -60\n",
    "pl.camera.zoom = 1.2\n",
    "\n",
    "pl.add_points(pcl_with_frames.pointscloud.detach().cpu().numpy()[0], \n",
    "              scalars=scalars,\n",
    "              point_size=4,cmap=cmap,\n",
    "              show_scalar_bar = False,\n",
    "                render_points_as_spheres=True,\n",
    "               ) 　　　　　　　　　　　　　　　　　　　　　　　　　                                                                                                                                                                                                                                                                   \n",
    "pl.show()"
   ]
  },
  {
   "cell_type": "code",
   "execution_count": null,
   "metadata": {},
   "outputs": [],
   "source": []
  },
  {
   "cell_type": "code",
   "execution_count": 60,
   "metadata": {},
   "outputs": [],
   "source": [
    "\n",
    "voxelizer = Differentiable_Voxelizer(bbox_density=64)\n",
    "voxel_trg = voxelizer.forward(trg_mesh, output_resolution=64)\n",
    "\n",
    "\n",
    "# cubified = cubify(voxel_trg, 0.5)"
   ]
  },
  {
   "cell_type": "code",
   "execution_count": null,
   "metadata": {},
   "outputs": [],
   "source": []
  },
  {
   "cell_type": "code",
   "execution_count": null,
   "metadata": {},
   "outputs": [],
   "source": []
  },
  {
   "cell_type": "code",
   "execution_count": 52,
   "metadata": {},
   "outputs": [],
   "source": [
    "inside_points = torch.where(voxel_trg[0] > 0.5)\n",
    "outside_points = torch.where(voxel_trg[0] < 0.5)\n",
    "\n",
    "window_size = voxel_trg.shape[1:]\n",
    "inside_points = torch.stack([inside_points[2]*2/(window_size[2]-1)-1, inside_points[1]*2/(window_size[1]-1)-1, inside_points[0]*2/(window_size[0]-1)-1], dim=-1)\n",
    "outside_points = torch.stack([outside_points[2]*2/(window_size[2]-1)-1, outside_points[1]*2/(window_size[1]-1)-1, outside_points[0]*2/(window_size[0]-1)-1], dim=-1)\n"
   ]
  },
  {
   "cell_type": "code",
   "execution_count": 61,
   "metadata": {},
   "outputs": [
    {
     "name": "stdout",
     "output_type": "stream",
     "text": [
      "Estimated Genus 1.0\n",
      "Estimated euler -0.6494277119636536\n",
      "GT area 25.266536712646484\n",
      "Estimated area 25.100204467773438\n"
     ]
    }
   ],
   "source": [
    "num_samples = 100000\n",
    "pointscloud, normals_gt = sample_points_from_meshes(trg_mesh, num_samples, return_normals=True)\n",
    "\n",
    "# pointscloud = trg_mesh.verts_padded()\n",
    "# normals_gt = trg_mesh.verts_normals_padded()\n",
    "\n",
    "area_gt = dual_area_vertex(trg_mesh).view(-1)\n",
    "\n",
    "pcl_with_frames = Differentiable_Global_Geometry_PointCloud(pointscloud, k = 30)\n",
    "\n",
    "frames = pcl_with_frames.frames_field.clone()\n",
    "frames[:,:,0,:] = normals_gt\n",
    "\n",
    "\n",
    "curvature = pcl_with_frames.gaussian_curvature(frames).view(-1)\n",
    "\n",
    "area = pcl_with_frames.local_voronoi_area(frames).view(-1)\n",
    "\n",
    "euler = (curvature * area).sum()/2/np.pi\n",
    "\n",
    "print('Estimated Genus',  torch.round(1-euler/2).item())\n",
    "\n",
    "print('Estimated euler',  euler.item())\n",
    "\n",
    "print('GT area', area_gt.sum().item())\n",
    "\n",
    "print('Estimated area', area.sum().item())\n",
    "\n",
    "\n"
   ]
  },
  {
   "cell_type": "code",
   "execution_count": 62,
   "metadata": {},
   "outputs": [
    {
     "name": "stdout",
     "output_type": "stream",
     "text": [
      "Estimated Genus 0.0\n",
      "Estimated euler tensor(1.7844, device='cuda:1')\n",
      "Estimated Area 25.100204467773438 GT Area 25.266536712646484\n"
     ]
    },
    {
     "ename": "ValueError",
     "evalue": "Number of scalars (100000) must match either the number of points (28120) or the number of cells (56240).",
     "output_type": "error",
     "traceback": [
      "\u001b[0;31m---------------------------------------------------------------------------\u001b[0m",
      "\u001b[0;31mValueError\u001b[0m                                Traceback (most recent call last)",
      "Cell \u001b[0;32mIn[62], line 25\u001b[0m\n\u001b[1;32m     21\u001b[0m scalars \u001b[38;5;241m=\u001b[39m (torch\u001b[38;5;241m.\u001b[39msigmoid((total_curv\u001b[38;5;241m*\u001b[39marea\u001b[38;5;241m-\u001b[39m\u001b[38;5;241m0.002\u001b[39m)\u001b[38;5;241m*\u001b[39m\u001b[38;5;241m200\u001b[39m)\u001b[38;5;241m.\u001b[39mdetach()\u001b[38;5;241m.\u001b[39mcpu()\u001b[38;5;241m.\u001b[39mnumpy())\n\u001b[1;32m     23\u001b[0m cmap \u001b[38;5;241m=\u001b[39m \u001b[38;5;124m\"\u001b[39m\u001b[38;5;124mbone_r\u001b[39m\u001b[38;5;124m\"\u001b[39m\n\u001b[0;32m---> 25\u001b[0m \u001b[43mpl\u001b[49m\u001b[38;5;241;43m.\u001b[39;49m\u001b[43madd_mesh\u001b[49m\u001b[43m(\u001b[49m\u001b[43mtrg_trimesh\u001b[49m\u001b[43m,\u001b[49m\u001b[43m \u001b[49m\u001b[43mscalars\u001b[49m\u001b[43m \u001b[49m\u001b[38;5;241;43m=\u001b[39;49m\u001b[43mscalars\u001b[49m\u001b[43m,\u001b[49m\u001b[43m \u001b[49m\u001b[43mcmap\u001b[49m\u001b[38;5;241;43m=\u001b[39;49m\u001b[43m \u001b[49m\u001b[43mcmap\u001b[49m\u001b[43m,\u001b[49m\n\u001b[1;32m     26\u001b[0m \u001b[43m            \u001b[49m\u001b[43mopacity\u001b[49m\u001b[38;5;241;43m=\u001b[39;49m\u001b[38;5;241;43m1\u001b[39;49m\u001b[43m,\u001b[49m\u001b[43m \u001b[49m\u001b[43mscalar_bar_args\u001b[49m\u001b[38;5;241;43m=\u001b[39;49m\u001b[43m{\u001b[49m\u001b[38;5;124;43m'\u001b[39;49m\u001b[38;5;124;43mtitle\u001b[39;49m\u001b[38;5;124;43m'\u001b[39;49m\u001b[43m:\u001b[49m\u001b[43m \u001b[49m\u001b[38;5;124;43m'\u001b[39;49m\u001b[38;5;124;43mTotal Curvature (per Area)\u001b[39;49m\u001b[38;5;124;43m'\u001b[39;49m\u001b[43m,\u001b[49m\u001b[43m \u001b[49m\u001b[38;5;124;43m'\u001b[39;49m\u001b[38;5;124;43mposition_x\u001b[39;49m\u001b[38;5;124;43m'\u001b[39;49m\u001b[43m:\u001b[49m\u001b[38;5;241;43m0.2\u001b[39;49m\u001b[43m,\u001b[49m\u001b[43m \u001b[49m\u001b[38;5;124;43m'\u001b[39;49m\u001b[38;5;124;43mposition_y\u001b[39;49m\u001b[38;5;124;43m'\u001b[39;49m\u001b[43m:\u001b[49m\u001b[38;5;241;43m0.0\u001b[39;49m\u001b[43m,\u001b[49m\u001b[43m \u001b[49m\u001b[38;5;124;43m'\u001b[39;49m\u001b[38;5;124;43mlabel_font_size\u001b[39;49m\u001b[38;5;124;43m'\u001b[39;49m\u001b[43m:\u001b[49m\u001b[38;5;241;43m0\u001b[39;49m\u001b[43m}\u001b[49m\u001b[43m,\u001b[49m\n\u001b[1;32m     27\u001b[0m \u001b[43m            \u001b[49m\u001b[43mstyle\u001b[49m\u001b[38;5;241;43m=\u001b[39;49m\u001b[38;5;124;43m'\u001b[39;49m\u001b[38;5;124;43msurface\u001b[39;49m\u001b[38;5;124;43m'\u001b[39;49m\u001b[43m)\u001b[49m\n\u001b[1;32m     29\u001b[0m \u001b[38;5;66;03m# pl.add_mesh(trg_trimesh, scalars= np.abs(area_gt.detach().cpu().numpy() - area.detach().cpu().numpy()), cmap= \"Reds\",\u001b[39;00m\n\u001b[1;32m     30\u001b[0m \u001b[38;5;66;03m#             opacity=1, scalar_bar_args={'title': 'Area Difference', 'position_x':0.2, 'position_y':0.0}, style='surface')\u001b[39;00m\n\u001b[1;32m     31\u001b[0m pl\u001b[38;5;241m.\u001b[39mcamera\u001b[38;5;241m.\u001b[39mroll \u001b[38;5;241m=\u001b[39m \u001b[38;5;241m-\u001b[39m\u001b[38;5;241m20\u001b[39m\n",
      "File \u001b[0;32m~/anaconda3/envs/geometery3d/lib/python3.9/site-packages/pyvista/plotting/plotter.py:3550\u001b[0m, in \u001b[0;36mBasePlotter.add_mesh\u001b[0;34m(self, mesh, color, style, scalars, clim, show_edges, edge_color, point_size, line_width, opacity, flip_scalars, lighting, n_colors, interpolate_before_map, cmap, label, reset_camera, scalar_bar_args, show_scalar_bar, multi_colors, name, texture, render_points_as_spheres, render_lines_as_tubes, smooth_shading, split_sharp_edges, ambient, diffuse, specular, specular_power, nan_color, nan_opacity, culling, rgb, categories, silhouette, use_transparency, below_color, above_color, annotations, pickable, preference, log_scale, pbr, metallic, roughness, render, user_matrix, component, emissive, copy_mesh, backface_params, show_vertices, edge_opacity, **kwargs)\u001b[0m\n\u001b[1;32m   3548\u001b[0m \u001b[38;5;66;03m# Scalars formatting ==================================================\u001b[39;00m\n\u001b[1;32m   3549\u001b[0m \u001b[38;5;28;01mif\u001b[39;00m scalars \u001b[38;5;129;01mis\u001b[39;00m \u001b[38;5;129;01mnot\u001b[39;00m \u001b[38;5;28;01mNone\u001b[39;00m:\n\u001b[0;32m-> 3550\u001b[0m     \u001b[38;5;28;43mself\u001b[39;49m\u001b[38;5;241;43m.\u001b[39;49m\u001b[43mmapper\u001b[49m\u001b[38;5;241;43m.\u001b[39;49m\u001b[43mset_scalars\u001b[49m\u001b[43m(\u001b[49m\n\u001b[1;32m   3551\u001b[0m \u001b[43m        \u001b[49m\u001b[43mscalars\u001b[49m\u001b[43m,\u001b[49m\n\u001b[1;32m   3552\u001b[0m \u001b[43m        \u001b[49m\u001b[43mscalars_name\u001b[49m\u001b[43m,\u001b[49m\n\u001b[1;32m   3553\u001b[0m \u001b[43m        \u001b[49m\u001b[43mn_colors\u001b[49m\u001b[43m,\u001b[49m\n\u001b[1;32m   3554\u001b[0m \u001b[43m        \u001b[49m\u001b[43mscalar_bar_args\u001b[49m\u001b[43m,\u001b[49m\n\u001b[1;32m   3555\u001b[0m \u001b[43m        \u001b[49m\u001b[43mrgb\u001b[49m\u001b[43m,\u001b[49m\n\u001b[1;32m   3556\u001b[0m \u001b[43m        \u001b[49m\u001b[43mcomponent\u001b[49m\u001b[43m,\u001b[49m\n\u001b[1;32m   3557\u001b[0m \u001b[43m        \u001b[49m\u001b[43mpreference\u001b[49m\u001b[43m,\u001b[49m\n\u001b[1;32m   3558\u001b[0m \u001b[43m        \u001b[49m\u001b[43mcustom_opac\u001b[49m\u001b[43m,\u001b[49m\n\u001b[1;32m   3559\u001b[0m \u001b[43m        \u001b[49m\u001b[43mannotations\u001b[49m\u001b[43m,\u001b[49m\n\u001b[1;32m   3560\u001b[0m \u001b[43m        \u001b[49m\u001b[43mlog_scale\u001b[49m\u001b[43m,\u001b[49m\n\u001b[1;32m   3561\u001b[0m \u001b[43m        \u001b[49m\u001b[43mnan_color\u001b[49m\u001b[43m,\u001b[49m\n\u001b[1;32m   3562\u001b[0m \u001b[43m        \u001b[49m\u001b[43mabove_color\u001b[49m\u001b[43m,\u001b[49m\n\u001b[1;32m   3563\u001b[0m \u001b[43m        \u001b[49m\u001b[43mbelow_color\u001b[49m\u001b[43m,\u001b[49m\n\u001b[1;32m   3564\u001b[0m \u001b[43m        \u001b[49m\u001b[43mcmap\u001b[49m\u001b[43m,\u001b[49m\n\u001b[1;32m   3565\u001b[0m \u001b[43m        \u001b[49m\u001b[43mflip_scalars\u001b[49m\u001b[43m,\u001b[49m\n\u001b[1;32m   3566\u001b[0m \u001b[43m        \u001b[49m\u001b[43mopacity\u001b[49m\u001b[43m,\u001b[49m\n\u001b[1;32m   3567\u001b[0m \u001b[43m        \u001b[49m\u001b[43mcategories\u001b[49m\u001b[43m,\u001b[49m\n\u001b[1;32m   3568\u001b[0m \u001b[43m        \u001b[49m\u001b[43mclim\u001b[49m\u001b[43m,\u001b[49m\n\u001b[1;32m   3569\u001b[0m \u001b[43m    \u001b[49m\u001b[43m)\u001b[49m\n\u001b[1;32m   3570\u001b[0m     \u001b[38;5;28mself\u001b[39m\u001b[38;5;241m.\u001b[39mmapper\u001b[38;5;241m.\u001b[39mscalar_visibility \u001b[38;5;241m=\u001b[39m \u001b[38;5;28;01mTrue\u001b[39;00m\n\u001b[1;32m   3571\u001b[0m \u001b[38;5;28;01melif\u001b[39;00m custom_opac:  \u001b[38;5;66;03m# no scalars but custom opacity\u001b[39;00m\n",
      "File \u001b[0;32m~/anaconda3/envs/geometery3d/lib/python3.9/site-packages/pyvista/plotting/mapper.py:733\u001b[0m, in \u001b[0;36mDataSetMapper.set_scalars\u001b[0;34m(self, scalars, scalars_name, n_colors, scalar_bar_args, rgb, component, preference, custom_opac, annotations, log_scale, nan_color, above_color, below_color, cmap, flip_scalars, opacity, categories, clim)\u001b[0m\n\u001b[1;32m    730\u001b[0m         \u001b[38;5;28mself\u001b[39m\u001b[38;5;241m.\u001b[39mlookup_table\u001b[38;5;241m.\u001b[39mannotations \u001b[38;5;241m=\u001b[39m annotations\n\u001b[1;32m    731\u001b[0m     \u001b[38;5;28mself\u001b[39m\u001b[38;5;241m.\u001b[39mlookup_table\u001b[38;5;241m.\u001b[39mlog_scale \u001b[38;5;241m=\u001b[39m log_scale\n\u001b[0;32m--> 733\u001b[0m \u001b[38;5;28;43mself\u001b[39;49m\u001b[38;5;241;43m.\u001b[39;49m\u001b[43m_configure_scalars_mode\u001b[49m\u001b[43m(\u001b[49m\n\u001b[1;32m    734\u001b[0m \u001b[43m    \u001b[49m\u001b[43mscalars\u001b[49m\u001b[43m,\u001b[49m\n\u001b[1;32m    735\u001b[0m \u001b[43m    \u001b[49m\u001b[43mscalars_name\u001b[49m\u001b[43m,\u001b[49m\n\u001b[1;32m    736\u001b[0m \u001b[43m    \u001b[49m\u001b[43mpreference\u001b[49m\u001b[43m,\u001b[49m\n\u001b[1;32m    737\u001b[0m \u001b[43m    \u001b[49m\u001b[43mrgb\u001b[49m\u001b[43m \u001b[49m\u001b[38;5;129;43;01mor\u001b[39;49;00m\u001b[43m \u001b[49m\u001b[43mcustom_opac\u001b[49m\u001b[43m,\u001b[49m\n\u001b[1;32m    738\u001b[0m \u001b[43m\u001b[49m\u001b[43m)\u001b[49m\n\u001b[1;32m    740\u001b[0m \u001b[38;5;28;01mif\u001b[39;00m \u001b[38;5;28misinstance\u001b[39m(\u001b[38;5;28mself\u001b[39m, PointGaussianMapper):\n\u001b[1;32m    741\u001b[0m     \u001b[38;5;28mself\u001b[39m\u001b[38;5;241m.\u001b[39mas_rgba()\n",
      "File \u001b[0;32m~/anaconda3/envs/geometery3d/lib/python3.9/site-packages/pyvista/plotting/mapper.py:480\u001b[0m, in \u001b[0;36mDataSetMapper._configure_scalars_mode\u001b[0;34m(self, scalars, scalars_name, preference, direct_scalars_color_mode)\u001b[0m\n\u001b[1;32m    478\u001b[0m     \u001b[38;5;28mself\u001b[39m\u001b[38;5;241m.\u001b[39mscalar_map_mode \u001b[38;5;241m=\u001b[39m \u001b[38;5;124m'\u001b[39m\u001b[38;5;124mcell\u001b[39m\u001b[38;5;124m'\u001b[39m\n\u001b[1;32m    479\u001b[0m \u001b[38;5;28;01melse\u001b[39;00m:\n\u001b[0;32m--> 480\u001b[0m     \u001b[43mraise_not_matching\u001b[49m\u001b[43m(\u001b[49m\u001b[43mscalars\u001b[49m\u001b[43m,\u001b[49m\u001b[43m \u001b[49m\u001b[38;5;28;43mself\u001b[39;49m\u001b[38;5;241;43m.\u001b[39;49m\u001b[43mdataset\u001b[49m\u001b[43m)\u001b[49m\n\u001b[1;32m    482\u001b[0m \u001b[38;5;28mself\u001b[39m\u001b[38;5;241m.\u001b[39mcolor_mode \u001b[38;5;241m=\u001b[39m \u001b[38;5;124m'\u001b[39m\u001b[38;5;124mdirect\u001b[39m\u001b[38;5;124m'\u001b[39m \u001b[38;5;28;01mif\u001b[39;00m direct_scalars_color_mode \u001b[38;5;28;01melse\u001b[39;00m \u001b[38;5;124m'\u001b[39m\u001b[38;5;124mmap\u001b[39m\u001b[38;5;124m'\u001b[39m\n",
      "File \u001b[0;32m~/anaconda3/envs/geometery3d/lib/python3.9/site-packages/pyvista/core/utilities/arrays.py:374\u001b[0m, in \u001b[0;36mraise_not_matching\u001b[0;34m(scalars, dataset)\u001b[0m\n\u001b[1;32m    370\u001b[0m \u001b[38;5;28;01mif\u001b[39;00m \u001b[38;5;28misinstance\u001b[39m(dataset, _vtk\u001b[38;5;241m.\u001b[39mvtkTable):\n\u001b[1;32m    371\u001b[0m     \u001b[38;5;28;01mraise\u001b[39;00m \u001b[38;5;167;01mValueError\u001b[39;00m(\n\u001b[1;32m    372\u001b[0m         \u001b[38;5;124mf\u001b[39m\u001b[38;5;124m'\u001b[39m\u001b[38;5;124mNumber of scalars (\u001b[39m\u001b[38;5;132;01m{\u001b[39;00mscalars\u001b[38;5;241m.\u001b[39mshape[\u001b[38;5;241m0\u001b[39m]\u001b[38;5;132;01m}\u001b[39;00m\u001b[38;5;124m) must match number of rows (\u001b[39m\u001b[38;5;132;01m{\u001b[39;00mdataset\u001b[38;5;241m.\u001b[39mn_rows\u001b[38;5;132;01m}\u001b[39;00m\u001b[38;5;124m).\u001b[39m\u001b[38;5;124m'\u001b[39m\n\u001b[1;32m    373\u001b[0m     )\n\u001b[0;32m--> 374\u001b[0m \u001b[38;5;28;01mraise\u001b[39;00m \u001b[38;5;167;01mValueError\u001b[39;00m(\n\u001b[1;32m    375\u001b[0m     \u001b[38;5;124mf\u001b[39m\u001b[38;5;124m'\u001b[39m\u001b[38;5;124mNumber of scalars (\u001b[39m\u001b[38;5;132;01m{\u001b[39;00mscalars\u001b[38;5;241m.\u001b[39mshape[\u001b[38;5;241m0\u001b[39m]\u001b[38;5;132;01m}\u001b[39;00m\u001b[38;5;124m) \u001b[39m\u001b[38;5;124m'\u001b[39m\n\u001b[1;32m    376\u001b[0m     \u001b[38;5;124mf\u001b[39m\u001b[38;5;124m'\u001b[39m\u001b[38;5;124mmust match either the number of points (\u001b[39m\u001b[38;5;132;01m{\u001b[39;00mdataset\u001b[38;5;241m.\u001b[39mn_points\u001b[38;5;132;01m}\u001b[39;00m\u001b[38;5;124m) \u001b[39m\u001b[38;5;124m'\u001b[39m\n\u001b[1;32m    377\u001b[0m     \u001b[38;5;124mf\u001b[39m\u001b[38;5;124m'\u001b[39m\u001b[38;5;124mor the number of cells (\u001b[39m\u001b[38;5;132;01m{\u001b[39;00mdataset\u001b[38;5;241m.\u001b[39mn_cells\u001b[38;5;132;01m}\u001b[39;00m\u001b[38;5;124m).\u001b[39m\u001b[38;5;124m'\u001b[39m\n\u001b[1;32m    378\u001b[0m )\n",
      "\u001b[0;31mValueError\u001b[0m: Number of scalars (100000) must match either the number of points (28120) or the number of cells (56240)."
     ]
    }
   ],
   "source": [
    "pl = pv.Plotter(notebook=True, window_size=(768,768), shape=(1,1), border=False)\n",
    "wein = pcl_with_frames.weingarten_fields()\n",
    "mean_curv = (wein[:,:,0,0] + wein[:,:,1,1])/2\n",
    "total_curv = wein.pow(2).sum(dim=(2,3)).sqrt()\n",
    "\n",
    "area = pcl_with_frames.local_voronoi_area().view(-1)\n",
    "rescaled_curv = area\n",
    "\n",
    "print('Estimated Genus',  torch.round(1-pcl_with_frames.differentiable_euler_number()[0]/2).item())\n",
    "\n",
    "print('Estimated euler',  pcl_with_frames.differentiable_euler_number()[0])\n",
    "\n",
    "print('Estimated Area',  area.sum().item(), 'GT Area', trg_mesh.faces_areas_packed().sum().item())\n",
    "\n",
    "alpha_scalars = 0.8 #- torch.exp(-torch.abs(curvature*area*5)).detach().cpu().numpy()\n",
    "\n",
    "trg_trimesh = trimesh.Trimesh(trg_mesh.verts_packed().detach().cpu().numpy(), trg_mesh.faces_packed().detach().cpu().numpy())\n",
    "\n",
    "\n",
    "# pl.add_mesh(trg_trimesh, color='lightblue', opacity=0.2)\n",
    "scalars = (torch.sigmoid((total_curv*area-0.002)*200).detach().cpu().numpy())\n",
    "\n",
    "cmap = \"bone_r\"\n",
    "\n",
    "pl.add_mesh(trg_trimesh, scalars =scalars, cmap= cmap,\n",
    "            opacity=1, scalar_bar_args={'title': 'Total Curvature (per Area)', 'position_x':0.2, 'position_y':0.0, 'label_font_size':0},\n",
    "            style='surface')\n",
    "\n",
    "# pl.add_mesh(trg_trimesh, scalars= np.abs(area_gt.detach().cpu().numpy() - area.detach().cpu().numpy()), cmap= \"Reds\",\n",
    "#             opacity=1, scalar_bar_args={'title': 'Area Difference', 'position_x':0.2, 'position_y':0.0}, style='surface')\n",
    "pl.camera.roll = -20\n",
    "pl.camera.elevation = 50\n",
    "pl.camera.azimuth = -60\n",
    "pl.camera.zoom = 1.2\n",
    "\n",
    "pl.add_points(pcl_with_frames.pointscloud.detach().cpu().numpy()[0], \n",
    "              scalars=scalars,\n",
    "              point_size=4,cmap=cmap,\n",
    "              show_scalar_bar = False,\n",
    "                render_points_as_spheres=True,\n",
    "               )\n",
    "pl.show()\n"
   ]
  },
  {
   "cell_type": "code",
   "execution_count": null,
   "metadata": {},
   "outputs": [],
   "source": []
  },
  {
   "cell_type": "code",
   "execution_count": 14,
   "metadata": {},
   "outputs": [
    {
     "name": "stdout",
     "output_type": "stream",
     "text": [
      "Estimated Genus 2.0\n",
      "Estimated euler tensor(-2.9700, device='cuda:1')\n",
      "Estimated Area 9.02149772644043 GT Area 9.228463172912598\n"
     ]
    },
    {
     "ename": "ValueError",
     "evalue": "Number of scalars (50000) must match either the number of points (141375) or the number of cells (282758).",
     "output_type": "error",
     "traceback": [
      "\u001b[0;31m---------------------------------------------------------------------------\u001b[0m",
      "\u001b[0;31mValueError\u001b[0m                                Traceback (most recent call last)",
      "Cell \u001b[0;32mIn[14], line 25\u001b[0m\n\u001b[1;32m     21\u001b[0m scalars \u001b[38;5;241m=\u001b[39m (torch\u001b[38;5;241m.\u001b[39msigmoid((total_curv\u001b[38;5;241m*\u001b[39marea\u001b[38;5;241m-\u001b[39m\u001b[38;5;241m0.002\u001b[39m)\u001b[38;5;241m*\u001b[39m\u001b[38;5;241m200\u001b[39m)\u001b[38;5;241m.\u001b[39mdetach()\u001b[38;5;241m.\u001b[39mcpu()\u001b[38;5;241m.\u001b[39mnumpy())\n\u001b[1;32m     23\u001b[0m cmap \u001b[38;5;241m=\u001b[39m \u001b[38;5;124m\"\u001b[39m\u001b[38;5;124mbone_r\u001b[39m\u001b[38;5;124m\"\u001b[39m\n\u001b[0;32m---> 25\u001b[0m \u001b[43mpl\u001b[49m\u001b[38;5;241;43m.\u001b[39;49m\u001b[43madd_mesh\u001b[49m\u001b[43m(\u001b[49m\u001b[43mtrg_trimesh\u001b[49m\u001b[43m,\u001b[49m\u001b[43m \u001b[49m\u001b[43mscalars\u001b[49m\u001b[43m \u001b[49m\u001b[38;5;241;43m=\u001b[39;49m\u001b[43mscalars\u001b[49m\u001b[43m,\u001b[49m\u001b[43m \u001b[49m\u001b[43mcmap\u001b[49m\u001b[38;5;241;43m=\u001b[39;49m\u001b[43m \u001b[49m\u001b[43mcmap\u001b[49m\u001b[43m,\u001b[49m\n\u001b[1;32m     26\u001b[0m \u001b[43m            \u001b[49m\u001b[43mopacity\u001b[49m\u001b[38;5;241;43m=\u001b[39;49m\u001b[38;5;241;43m1\u001b[39;49m\u001b[43m,\u001b[49m\u001b[43m \u001b[49m\u001b[43mscalar_bar_args\u001b[49m\u001b[38;5;241;43m=\u001b[39;49m\u001b[43m{\u001b[49m\u001b[38;5;124;43m'\u001b[39;49m\u001b[38;5;124;43mtitle\u001b[39;49m\u001b[38;5;124;43m'\u001b[39;49m\u001b[43m:\u001b[49m\u001b[43m \u001b[49m\u001b[38;5;124;43m'\u001b[39;49m\u001b[38;5;124;43mTotal Curvature (per Area)\u001b[39;49m\u001b[38;5;124;43m'\u001b[39;49m\u001b[43m,\u001b[49m\u001b[43m \u001b[49m\u001b[38;5;124;43m'\u001b[39;49m\u001b[38;5;124;43mposition_x\u001b[39;49m\u001b[38;5;124;43m'\u001b[39;49m\u001b[43m:\u001b[49m\u001b[38;5;241;43m0.2\u001b[39;49m\u001b[43m,\u001b[49m\u001b[43m \u001b[49m\u001b[38;5;124;43m'\u001b[39;49m\u001b[38;5;124;43mposition_y\u001b[39;49m\u001b[38;5;124;43m'\u001b[39;49m\u001b[43m:\u001b[49m\u001b[38;5;241;43m0.0\u001b[39;49m\u001b[43m,\u001b[49m\u001b[43m \u001b[49m\u001b[38;5;124;43m'\u001b[39;49m\u001b[38;5;124;43mlabel_font_size\u001b[39;49m\u001b[38;5;124;43m'\u001b[39;49m\u001b[43m:\u001b[49m\u001b[38;5;241;43m0\u001b[39;49m\u001b[43m}\u001b[49m\u001b[43m,\u001b[49m\n\u001b[1;32m     27\u001b[0m \u001b[43m            \u001b[49m\u001b[43mstyle\u001b[49m\u001b[38;5;241;43m=\u001b[39;49m\u001b[38;5;124;43m'\u001b[39;49m\u001b[38;5;124;43msurface\u001b[39;49m\u001b[38;5;124;43m'\u001b[39;49m\u001b[43m)\u001b[49m\n\u001b[1;32m     29\u001b[0m \u001b[38;5;66;03m# pl.add_mesh(trg_trimesh, scalars= np.abs(area_gt.detach().cpu().numpy() - area.detach().cpu().numpy()), cmap= \"Reds\",\u001b[39;00m\n\u001b[1;32m     30\u001b[0m \u001b[38;5;66;03m#             opacity=1, scalar_bar_args={'title': 'Area Difference', 'position_x':0.2, 'position_y':0.0}, style='surface')\u001b[39;00m\n\u001b[1;32m     31\u001b[0m pl\u001b[38;5;241m.\u001b[39mcamera\u001b[38;5;241m.\u001b[39mroll \u001b[38;5;241m=\u001b[39m \u001b[38;5;241m-\u001b[39m\u001b[38;5;241m20\u001b[39m\n",
      "File \u001b[0;32m~/anaconda3/envs/geometery3d/lib/python3.9/site-packages/pyvista/plotting/plotter.py:3550\u001b[0m, in \u001b[0;36mBasePlotter.add_mesh\u001b[0;34m(self, mesh, color, style, scalars, clim, show_edges, edge_color, point_size, line_width, opacity, flip_scalars, lighting, n_colors, interpolate_before_map, cmap, label, reset_camera, scalar_bar_args, show_scalar_bar, multi_colors, name, texture, render_points_as_spheres, render_lines_as_tubes, smooth_shading, split_sharp_edges, ambient, diffuse, specular, specular_power, nan_color, nan_opacity, culling, rgb, categories, silhouette, use_transparency, below_color, above_color, annotations, pickable, preference, log_scale, pbr, metallic, roughness, render, user_matrix, component, emissive, copy_mesh, backface_params, show_vertices, edge_opacity, **kwargs)\u001b[0m\n\u001b[1;32m   3548\u001b[0m \u001b[38;5;66;03m# Scalars formatting ==================================================\u001b[39;00m\n\u001b[1;32m   3549\u001b[0m \u001b[38;5;28;01mif\u001b[39;00m scalars \u001b[38;5;129;01mis\u001b[39;00m \u001b[38;5;129;01mnot\u001b[39;00m \u001b[38;5;28;01mNone\u001b[39;00m:\n\u001b[0;32m-> 3550\u001b[0m     \u001b[38;5;28;43mself\u001b[39;49m\u001b[38;5;241;43m.\u001b[39;49m\u001b[43mmapper\u001b[49m\u001b[38;5;241;43m.\u001b[39;49m\u001b[43mset_scalars\u001b[49m\u001b[43m(\u001b[49m\n\u001b[1;32m   3551\u001b[0m \u001b[43m        \u001b[49m\u001b[43mscalars\u001b[49m\u001b[43m,\u001b[49m\n\u001b[1;32m   3552\u001b[0m \u001b[43m        \u001b[49m\u001b[43mscalars_name\u001b[49m\u001b[43m,\u001b[49m\n\u001b[1;32m   3553\u001b[0m \u001b[43m        \u001b[49m\u001b[43mn_colors\u001b[49m\u001b[43m,\u001b[49m\n\u001b[1;32m   3554\u001b[0m \u001b[43m        \u001b[49m\u001b[43mscalar_bar_args\u001b[49m\u001b[43m,\u001b[49m\n\u001b[1;32m   3555\u001b[0m \u001b[43m        \u001b[49m\u001b[43mrgb\u001b[49m\u001b[43m,\u001b[49m\n\u001b[1;32m   3556\u001b[0m \u001b[43m        \u001b[49m\u001b[43mcomponent\u001b[49m\u001b[43m,\u001b[49m\n\u001b[1;32m   3557\u001b[0m \u001b[43m        \u001b[49m\u001b[43mpreference\u001b[49m\u001b[43m,\u001b[49m\n\u001b[1;32m   3558\u001b[0m \u001b[43m        \u001b[49m\u001b[43mcustom_opac\u001b[49m\u001b[43m,\u001b[49m\n\u001b[1;32m   3559\u001b[0m \u001b[43m        \u001b[49m\u001b[43mannotations\u001b[49m\u001b[43m,\u001b[49m\n\u001b[1;32m   3560\u001b[0m \u001b[43m        \u001b[49m\u001b[43mlog_scale\u001b[49m\u001b[43m,\u001b[49m\n\u001b[1;32m   3561\u001b[0m \u001b[43m        \u001b[49m\u001b[43mnan_color\u001b[49m\u001b[43m,\u001b[49m\n\u001b[1;32m   3562\u001b[0m \u001b[43m        \u001b[49m\u001b[43mabove_color\u001b[49m\u001b[43m,\u001b[49m\n\u001b[1;32m   3563\u001b[0m \u001b[43m        \u001b[49m\u001b[43mbelow_color\u001b[49m\u001b[43m,\u001b[49m\n\u001b[1;32m   3564\u001b[0m \u001b[43m        \u001b[49m\u001b[43mcmap\u001b[49m\u001b[43m,\u001b[49m\n\u001b[1;32m   3565\u001b[0m \u001b[43m        \u001b[49m\u001b[43mflip_scalars\u001b[49m\u001b[43m,\u001b[49m\n\u001b[1;32m   3566\u001b[0m \u001b[43m        \u001b[49m\u001b[43mopacity\u001b[49m\u001b[43m,\u001b[49m\n\u001b[1;32m   3567\u001b[0m \u001b[43m        \u001b[49m\u001b[43mcategories\u001b[49m\u001b[43m,\u001b[49m\n\u001b[1;32m   3568\u001b[0m \u001b[43m        \u001b[49m\u001b[43mclim\u001b[49m\u001b[43m,\u001b[49m\n\u001b[1;32m   3569\u001b[0m \u001b[43m    \u001b[49m\u001b[43m)\u001b[49m\n\u001b[1;32m   3570\u001b[0m     \u001b[38;5;28mself\u001b[39m\u001b[38;5;241m.\u001b[39mmapper\u001b[38;5;241m.\u001b[39mscalar_visibility \u001b[38;5;241m=\u001b[39m \u001b[38;5;28;01mTrue\u001b[39;00m\n\u001b[1;32m   3571\u001b[0m \u001b[38;5;28;01melif\u001b[39;00m custom_opac:  \u001b[38;5;66;03m# no scalars but custom opacity\u001b[39;00m\n",
      "File \u001b[0;32m~/anaconda3/envs/geometery3d/lib/python3.9/site-packages/pyvista/plotting/mapper.py:733\u001b[0m, in \u001b[0;36mDataSetMapper.set_scalars\u001b[0;34m(self, scalars, scalars_name, n_colors, scalar_bar_args, rgb, component, preference, custom_opac, annotations, log_scale, nan_color, above_color, below_color, cmap, flip_scalars, opacity, categories, clim)\u001b[0m\n\u001b[1;32m    730\u001b[0m         \u001b[38;5;28mself\u001b[39m\u001b[38;5;241m.\u001b[39mlookup_table\u001b[38;5;241m.\u001b[39mannotations \u001b[38;5;241m=\u001b[39m annotations\n\u001b[1;32m    731\u001b[0m     \u001b[38;5;28mself\u001b[39m\u001b[38;5;241m.\u001b[39mlookup_table\u001b[38;5;241m.\u001b[39mlog_scale \u001b[38;5;241m=\u001b[39m log_scale\n\u001b[0;32m--> 733\u001b[0m \u001b[38;5;28;43mself\u001b[39;49m\u001b[38;5;241;43m.\u001b[39;49m\u001b[43m_configure_scalars_mode\u001b[49m\u001b[43m(\u001b[49m\n\u001b[1;32m    734\u001b[0m \u001b[43m    \u001b[49m\u001b[43mscalars\u001b[49m\u001b[43m,\u001b[49m\n\u001b[1;32m    735\u001b[0m \u001b[43m    \u001b[49m\u001b[43mscalars_name\u001b[49m\u001b[43m,\u001b[49m\n\u001b[1;32m    736\u001b[0m \u001b[43m    \u001b[49m\u001b[43mpreference\u001b[49m\u001b[43m,\u001b[49m\n\u001b[1;32m    737\u001b[0m \u001b[43m    \u001b[49m\u001b[43mrgb\u001b[49m\u001b[43m \u001b[49m\u001b[38;5;129;43;01mor\u001b[39;49;00m\u001b[43m \u001b[49m\u001b[43mcustom_opac\u001b[49m\u001b[43m,\u001b[49m\n\u001b[1;32m    738\u001b[0m \u001b[43m\u001b[49m\u001b[43m)\u001b[49m\n\u001b[1;32m    740\u001b[0m \u001b[38;5;28;01mif\u001b[39;00m \u001b[38;5;28misinstance\u001b[39m(\u001b[38;5;28mself\u001b[39m, PointGaussianMapper):\n\u001b[1;32m    741\u001b[0m     \u001b[38;5;28mself\u001b[39m\u001b[38;5;241m.\u001b[39mas_rgba()\n",
      "File \u001b[0;32m~/anaconda3/envs/geometery3d/lib/python3.9/site-packages/pyvista/plotting/mapper.py:480\u001b[0m, in \u001b[0;36mDataSetMapper._configure_scalars_mode\u001b[0;34m(self, scalars, scalars_name, preference, direct_scalars_color_mode)\u001b[0m\n\u001b[1;32m    478\u001b[0m     \u001b[38;5;28mself\u001b[39m\u001b[38;5;241m.\u001b[39mscalar_map_mode \u001b[38;5;241m=\u001b[39m \u001b[38;5;124m'\u001b[39m\u001b[38;5;124mcell\u001b[39m\u001b[38;5;124m'\u001b[39m\n\u001b[1;32m    479\u001b[0m \u001b[38;5;28;01melse\u001b[39;00m:\n\u001b[0;32m--> 480\u001b[0m     \u001b[43mraise_not_matching\u001b[49m\u001b[43m(\u001b[49m\u001b[43mscalars\u001b[49m\u001b[43m,\u001b[49m\u001b[43m \u001b[49m\u001b[38;5;28;43mself\u001b[39;49m\u001b[38;5;241;43m.\u001b[39;49m\u001b[43mdataset\u001b[49m\u001b[43m)\u001b[49m\n\u001b[1;32m    482\u001b[0m \u001b[38;5;28mself\u001b[39m\u001b[38;5;241m.\u001b[39mcolor_mode \u001b[38;5;241m=\u001b[39m \u001b[38;5;124m'\u001b[39m\u001b[38;5;124mdirect\u001b[39m\u001b[38;5;124m'\u001b[39m \u001b[38;5;28;01mif\u001b[39;00m direct_scalars_color_mode \u001b[38;5;28;01melse\u001b[39;00m \u001b[38;5;124m'\u001b[39m\u001b[38;5;124mmap\u001b[39m\u001b[38;5;124m'\u001b[39m\n",
      "File \u001b[0;32m~/anaconda3/envs/geometery3d/lib/python3.9/site-packages/pyvista/core/utilities/arrays.py:374\u001b[0m, in \u001b[0;36mraise_not_matching\u001b[0;34m(scalars, dataset)\u001b[0m\n\u001b[1;32m    370\u001b[0m \u001b[38;5;28;01mif\u001b[39;00m \u001b[38;5;28misinstance\u001b[39m(dataset, _vtk\u001b[38;5;241m.\u001b[39mvtkTable):\n\u001b[1;32m    371\u001b[0m     \u001b[38;5;28;01mraise\u001b[39;00m \u001b[38;5;167;01mValueError\u001b[39;00m(\n\u001b[1;32m    372\u001b[0m         \u001b[38;5;124mf\u001b[39m\u001b[38;5;124m'\u001b[39m\u001b[38;5;124mNumber of scalars (\u001b[39m\u001b[38;5;132;01m{\u001b[39;00mscalars\u001b[38;5;241m.\u001b[39mshape[\u001b[38;5;241m0\u001b[39m]\u001b[38;5;132;01m}\u001b[39;00m\u001b[38;5;124m) must match number of rows (\u001b[39m\u001b[38;5;132;01m{\u001b[39;00mdataset\u001b[38;5;241m.\u001b[39mn_rows\u001b[38;5;132;01m}\u001b[39;00m\u001b[38;5;124m).\u001b[39m\u001b[38;5;124m'\u001b[39m\n\u001b[1;32m    373\u001b[0m     )\n\u001b[0;32m--> 374\u001b[0m \u001b[38;5;28;01mraise\u001b[39;00m \u001b[38;5;167;01mValueError\u001b[39;00m(\n\u001b[1;32m    375\u001b[0m     \u001b[38;5;124mf\u001b[39m\u001b[38;5;124m'\u001b[39m\u001b[38;5;124mNumber of scalars (\u001b[39m\u001b[38;5;132;01m{\u001b[39;00mscalars\u001b[38;5;241m.\u001b[39mshape[\u001b[38;5;241m0\u001b[39m]\u001b[38;5;132;01m}\u001b[39;00m\u001b[38;5;124m) \u001b[39m\u001b[38;5;124m'\u001b[39m\n\u001b[1;32m    376\u001b[0m     \u001b[38;5;124mf\u001b[39m\u001b[38;5;124m'\u001b[39m\u001b[38;5;124mmust match either the number of points (\u001b[39m\u001b[38;5;132;01m{\u001b[39;00mdataset\u001b[38;5;241m.\u001b[39mn_points\u001b[38;5;132;01m}\u001b[39;00m\u001b[38;5;124m) \u001b[39m\u001b[38;5;124m'\u001b[39m\n\u001b[1;32m    377\u001b[0m     \u001b[38;5;124mf\u001b[39m\u001b[38;5;124m'\u001b[39m\u001b[38;5;124mor the number of cells (\u001b[39m\u001b[38;5;132;01m{\u001b[39;00mdataset\u001b[38;5;241m.\u001b[39mn_cells\u001b[38;5;132;01m}\u001b[39;00m\u001b[38;5;124m).\u001b[39m\u001b[38;5;124m'\u001b[39m\n\u001b[1;32m    378\u001b[0m )\n",
      "\u001b[0;31mValueError\u001b[0m: Number of scalars (50000) must match either the number of points (141375) or the number of cells (282758)."
     ]
    }
   ],
   "source": [
    "pl = pv.Plotter(notebook=True, window_size=(768,768), shape=(1,1), border=False)\n",
    "wein = pcl_with_frames.weingarten_fields()\n",
    "mean_curv = (wein[:,:,0,0] + wein[:,:,1,1])/2\n",
    "total_curv = wein.pow(2).sum(dim=(2,3)).sqrt()\n",
    "\n",
    "area = pcl_with_frames.local_voronoi_area().view(-1)\n",
    "rescaled_curv = area\n",
    "\n",
    "print('Estimated Genus',  torch.round(1-pcl_with_frames.differentiable_euler_number()[0]/2).item())\n",
    "\n",
    "print('Estimated euler',  pcl_with_frames.differentiable_euler_number()[0])\n",
    "\n",
    "print('Estimated Area',  area.sum().item(), 'GT Area', trg_mesh.faces_areas_packed().sum().item())\n",
    "\n",
    "alpha_scalars = 0.8 #- torch.exp(-torch.abs(curvature*area*5)).detach().cpu().numpy()\n",
    "\n",
    "trg_trimesh = trimesh.Trimesh(trg_mesh.verts_packed().detach().cpu().numpy(), trg_mesh.faces_packed().detach().cpu().numpy())\n",
    "\n",
    "\n",
    "# pl.add_mesh(trg_trimesh, color='lightblue', opacity=0.2)\n",
    "scalars = (torch.sigmoid((total_curv*area-0.002)*200).detach().cpu().numpy())\n",
    "\n",
    "cmap = \"bone_r\"\n",
    "\n",
    "pl.add_mesh(trg_trimesh, scalars =scalars, cmap= cmap,\n",
    "            opacity=1, scalar_bar_args={'title': 'Total Curvature (per Area)', 'position_x':0.2, 'position_y':0.0, 'label_font_size':0},\n",
    "            style='surface')\n",
    "\n",
    "# pl.add_mesh(trg_trimesh, scalars= np.abs(area_gt.detach().cpu().numpy() - area.detach().cpu().numpy()), cmap= \"Reds\",\n",
    "#             opacity=1, scalar_bar_args={'title': 'Area Difference', 'position_x':0.2, 'position_y':0.0}, style='surface')\n",
    "pl.camera.roll = -20\n",
    "pl.camera.elevation = 50\n",
    "pl.camera.azimuth = -60\n",
    "pl.camera.zoom = 1.2\n",
    "\n",
    "pl.add_points(pcl_with_frames.pointscloud.detach().cpu().numpy()[0], \n",
    "              scalars=scalars,\n",
    "              point_size=4,cmap=cmap,\n",
    "              show_scalar_bar = False,\n",
    "                render_points_as_spheres=True,\n",
    "               )\n",
    "\n",
    "# pl.add_points(pcl_with_frames.pointscloud.detach().cpu().numpy()[0], \n",
    "#               scalars=rescaled_curv.detach().cpu().numpy(), \n",
    "#               point_size=4,cmap=\"YlGn\",\n",
    "#               scalar_bar_args={'title': 'Curvature Density', 'position_x':0.2, 'position_y':0.01}, opacity = alpha_scalars,\n",
    "#               render_points_as_spheres=True,\n",
    "#                )\n",
    "# pl.add_mesh(trg_trimesh.apply_translation(np.array([1.3,0,0])), scalars=area_gt.detach().cpu().numpy(), cmap= \"YlGn\", opacity=1)\n",
    "\n",
    "\n",
    "# pl.add_mesh(trg_trimesh.apply_translation(np.array([2.6,0,0])), scalars=area_gt.detach().cpu().numpy(), cmap= \"plasma\", opacity=1)\n",
    "# pl.add_points(pcl_with_frames.pointscloud.detach().cpu().numpy()[0], \n",
    "#               scalars=rescaled_curv.detach().cpu().numpy(), \n",
    "#               point_size=4,cmap=\"YlGn\",\n",
    "#               scalar_bar_args={'title': 'Curvature Density'}, opacity = alpha_scalars,\n",
    "#               render_points_as_spheres=True,\n",
    "#                )\n",
    "\n",
    "# pl.add_points(pcl_with_frames.pointscloud.detach().cpu().numpy()[0], \n",
    "#               point_size=2, color='darkblue',\n",
    "#               render_points_as_spheres=True,\n",
    "#                )\n",
    "\n",
    "# render tidely\n",
    "pl.show(screenshot='Total_Curvature.png', window_size=(768,768))\n"
   ]
  },
  {
   "cell_type": "code",
   "execution_count": null,
   "metadata": {},
   "outputs": [],
   "source": []
  },
  {
   "cell_type": "code",
   "execution_count": 15,
   "metadata": {},
   "outputs": [
    {
     "name": "stdout",
     "output_type": "stream",
     "text": [
      "Estimated Genus 2.0\n",
      "Estimated euler tensor(-2.9700, device='cuda:1')\n",
      "Estimated Area 9.02149772644043 GT Area 9.228463172912598\n"
     ]
    },
    {
     "data": {
      "application/vnd.jupyter.widget-view+json": {
       "model_id": "5b0ed74bd3da4eb29996d5ca059d68a4",
       "version_major": 2,
       "version_minor": 0
      },
      "text/plain": [
       "EmbeddableWidget(value='<iframe srcdoc=\"<!DOCTYPE html>\\n<html>\\n  <head>\\n    <meta http-equiv=&quot;Content-…"
      ]
     },
     "metadata": {},
     "output_type": "display_data"
    }
   ],
   "source": [
    "pl = pv.Plotter(notebook=True)\n",
    "curvature = pcl_with_frames.gaussian_curvature().view(-1)\n",
    "\n",
    "area = pcl_with_frames.local_voronoi_area().view(-1)\n",
    "rescaled_curv = torch.tanh(curvature*area*50)\n",
    "\n",
    "print('Estimated Genus',  torch.round(1-pcl_with_frames.differentiable_euler_number()[0]/2).item())\n",
    "\n",
    "print('Estimated euler',  pcl_with_frames.differentiable_euler_number()[0])\n",
    "\n",
    "print('Estimated Area',  area.sum().item(), 'GT Area', trg_mesh.faces_areas_packed().sum().item())\n",
    "\n",
    "alpha_scalars = 1.0 #- torch.exp(-torch.abs(curvature*area*5)).detach().cpu().numpy()\n",
    "\n",
    "trg_trimesh = trimesh.Trimesh(trg_mesh.verts_packed().detach().cpu().numpy(), trg_mesh.faces_packed().detach().cpu().numpy())\n",
    "# pl.add_mesh(trg_trimesh, color='lightblue', opacity=0.2)\n",
    "pl.add_points(pcl_with_frames.pointscloud.detach().cpu().numpy()[0], \n",
    "              scalars=rescaled_curv.detach().cpu().numpy(), \n",
    "              point_size=4,cmap=\"PiYG_r\",\n",
    "              scalar_bar_args={'title': 'Curvature Density'}, opacity = alpha_scalars,\n",
    "              render_points_as_spheres=True)\n",
    "\n",
    "pl.show(screenshot='curvature_density.png')\n"
   ]
  },
  {
   "cell_type": "code",
   "execution_count": 10,
   "metadata": {},
   "outputs": [],
   "source": [
    "def xyz2spherical(xyz):\n",
    "    theta = torch.atan2(xyz[...,1:2], xyz[...,0:1])\n",
    "    phi = torch.acos(xyz[...,2:3])\n",
    "    return torch.cat([theta, phi], dim=-1)\n",
    "\n",
    "def spherical2xyz(spherical):\n",
    "    theta = spherical[...,0:1]\n",
    "    phi = spherical[...,1:2]\n",
    "    return torch.cat([torch.cos(theta)*torch.sin(phi), torch.sin(theta)*torch.sin(phi), torch.cos(phi)], dim=-1)\n",
    "\n",
    "def double_potential_well(x):\n",
    "    return 4*(x-0.5)**4 - 2*(x-0.5)**2 - x/4 + 1/2"
   ]
  },
  {
   "cell_type": "code",
   "execution_count": 21,
   "metadata": {},
   "outputs": [
    {
     "name": "stderr",
     "output_type": "stream",
     "text": [
      "Loss: 0.94793707, area: 9.02, euler: -4.00: 100%|██████████| 500/500 [00:52<00:00,  9.46it/s]\n"
     ]
    }
   ],
   "source": [
    "## differentiable optimization \n",
    "\n",
    "\n",
    "normals_field_sph = xyz2spherical(pcl_with_frames.frames_field[:,:,0:1,:])\n",
    "# normals_field_sph = xyz2spherical(normals_gt.unsqueeze(-2))\n",
    "normals_field_sph.requires_grad = True\n",
    "\n",
    "# tangent1_field_sph = xyz2spherical(pcl_with_frames.frames_field[:,:,1:2,:])\n",
    "# tangent1_field_sph.requires_grad = True\n",
    "# tangent2_field_sph = xyz2spherical(pcl_with_frames.frames_field[:,:,2:3,:])\n",
    "# tangent2_field_sph.requires_grad = True\n",
    "\n",
    "# frame_rot = matrix_to_axis_angle(pcl_with_frames.frames_field)\n",
    "# frame_rot.requires_grad = True\n",
    "\n",
    "\n",
    "\n",
    "\n",
    "\n",
    "optimizer = torch.optim.Adam([normals_field_sph], lr=0.01)\n",
    "scheduler = torch.optim.lr_scheduler.StepLR(optimizer, step_size=200, gamma=0.5)\n",
    "\n",
    "\n",
    "loop = tqdm(range(500))\n",
    "\n",
    "euler_curves = []\n",
    "\n",
    "loss_normals_list = []\n",
    "\n",
    "for epoch in loop:\n",
    "\n",
    "    optimizer.zero_grad()\n",
    "    knn_info = pcl_with_frames.knn_info\n",
    "\n",
    "    normals_field = spherical2xyz(normals_field_sph)\n",
    "    tangent1_field = pcl_with_frames.frames_field[:,:,1:2,:]\n",
    "    tangent2_field = pcl_with_frames.frames_field[:,:,2:3,:]\n",
    "    # # tangent1_field = spherical2xyz(tangent1_field_sph)\n",
    "    # tangent2_field = spherical2xyz(tangent2_field_sph)\n",
    "\n",
    "    frames_field = torch.cat([normals_field, tangent1_field, tangent2_field], dim=-2)\n",
    "    # frames_field = axis_angle_to_matrix(frame_rot)\n",
    "\n",
    "    normals_field = frames_field[:,:,0:1,:]\n",
    "    tangent1_field = frames_field[:,:,1:2,:]\n",
    "    tangent2_field = frames_field[:,:,2:3,:]\n",
    "\n",
    "    local_pt_difference = pcl_with_frames.knn_info.knn - pcl_with_frames.pointscloud[:,:,None,:] # B x N x K x 3\n",
    "\n",
    "    # voronoi_area_list = pcl_with_frames.local_voronoi_area(frames_field)\n",
    "\n",
    "    euler,voronoi_area_list = pcl_with_frames.differentiable_euler_number(frames_field, return_area=True, n_temp=10000)\n",
    "\n",
    "    \n",
    "    Loss_gt = F.mse_loss(normals_field, normals_gt.unsqueeze(-2)) + nn.CosineSimilarity(dim=-1)(normals_field, normals_gt.unsqueeze(-2)).mean()\n",
    "\n",
    "\n",
    "    # project the difference onto the tangent plane, getting the differential of the gaussian map\n",
    "    local_dpt_tangent1 = (local_pt_difference * tangent1_field).sum(-1,keepdim=True)\n",
    "    local_dpt_tangent2 = (local_pt_difference * tangent2_field).sum(-1,keepdim=True)\n",
    "\n",
    "\n",
    "    Loss_perpendicular = (local_pt_difference * normals_field).sum(-1,keepdim=True)\n",
    "\n",
    "    Loss_perpendicular = F.mse_loss(Loss_perpendicular, torch.zeros_like(Loss_perpendicular))\n",
    "\n",
    "\n",
    "\n",
    "    patch_size = 2000\n",
    "\n",
    "    \n",
    "    inside_points_sampled = inside_points[torch.randperm(inside_points.shape[0])[:patch_size]]\n",
    "    \n",
    "    try:\n",
    "        winding_number_field_inside = (Electric_strength(inside_points_sampled, pcl_with_frames.pointscloud.view(-1,3))*normals_field[:,:,0,:]).sum(-1,keepdim=True)\n",
    "\n",
    "        winding_number_field_inside = (winding_number_field_inside*voronoi_area_list).sum(-2)/np.pi/4\n",
    "    \n",
    "    except:\n",
    "        winding_number_field_inside = torch.zeros_like(inside_points_sampled[:,0:1])\n",
    "        for i in range(pcl_with_frames.pointscloud.shape[1]//patch_size+1):\n",
    "            winding_number_field_inside_temp = (Electric_strength(inside_points_sampled, pcl_with_frames.pointscloud[:,i*patch_size:(i+1)*patch_size].view(-1,3))*frames_field[:,i*patch_size:(i+1)*patch_size,0,:]).sum(-1,keepdim=True)\n",
    "            winding_number_field_inside_temp = (winding_number_field_inside_temp*voronoi_area_list[:,i*patch_size:(i+1)*patch_size]).sum(-2)/np.pi/4\n",
    "\n",
    "            winding_number_field_inside += winding_number_field_inside_temp\n",
    "\n",
    "    outside_points_sampled = outside_points[torch.randperm(outside_points.shape[0])[:patch_size]]\n",
    "    \n",
    "    \n",
    "    try:\n",
    "        winding_number_field_outside = (Electric_strength(outside_points_sampled, pcl_with_frames.pointscloud.view(-1,3))*normals_field[:,:,0,:]).sum(-1,keepdim=True)\n",
    "\n",
    "        winding_number_field_outside = (winding_number_field_outside*voronoi_area_list).sum(-2)/np.pi/4\n",
    "    except:\n",
    "        winding_number_field_outside = torch.zeros_like(outside_points_sampled[:,0:1])\n",
    "        for i in range(pcl_with_frames.pointscloud.shape[1]//patch_size+1):\n",
    "            winding_number_field_outside_temp = (Electric_strength(outside_points_sampled, pcl_with_frames.pointscloud[:,i*patch_size:(i+1)*patch_size].view(-1,3))*frames_field[:,i*patch_size:(i+1)*patch_size,0,:]).sum(-1,keepdim=True)\n",
    "            winding_number_field_outside_temp = (winding_number_field_outside_temp*voronoi_area_list[:,i*patch_size:(i+1)*patch_size]).sum(-2)/np.pi/4\n",
    "\n",
    "            winding_number_field_outside += winding_number_field_outside_temp\n",
    "\n",
    "    occupancy_current = torch.cat([(winding_number_field_inside), (winding_number_field_outside)], dim=0)\n",
    "\n",
    "    occupancy_gt = torch.cat([torch.ones_like(winding_number_field_inside), torch.zeros_like(winding_number_field_outside)], dim=0)\n",
    "\n",
    "    Loss_well = double_potential_well(occupancy_current).mean()\n",
    "\n",
    "    Loss_occupancy = nn.CosineSimilarity(dim=-1)(occupancy_current, occupancy_gt) #+ nn.BCELoss()(occupancy_current, occupancy_gt)\n",
    "\n",
    "    local_normals_difference = knn_gather(normals_field.squeeze(-2),pcl_with_frames.knn_info.idx) - normals_field\n",
    "    # project the difference onto the tangent plane, getting the differential of the gaussian map\n",
    "\n",
    "    # Loss_normal_consistency = F.mse_loss(knn_gather(normals_field[:,:,0,:],knn_info.idx) - knn_gather(normals_field,knn_info.idx).mean(-2,keepdim=True), torch.zeros_like(knn_gather(normals_field,knn_info.idx)))\n",
    "\n",
    "\n",
    "    Loss_perpendicular_normals = (local_normals_difference * normals_field).sum(-1,keepdim=True)\n",
    "    Loss_perpendicular_normals = F.mse_loss(Loss_perpendicular_normals, torch.zeros_like(Loss_perpendicular_normals))\n",
    "\n",
    " \n",
    "    \n",
    "    Loss_euler = (torch.sin(np.pi*euler-np.pi/2)+1) + (euler+4)**2\n",
    "    # a closed orientatiable manifold has even euler number\n",
    "\n",
    "\n",
    "    Loss =  0.001*Loss_euler + Loss_gt\n",
    "    # +  1e-6*Loss_euler + 0.05*Loss_normal_consistency + 0.1*Loss_perpendicular_normals + 0.1*Loss_tangent_dnormal\n",
    "\n",
    "    euler_curves.append(euler.item())\n",
    "    loss_normals_list.append(F.mse_loss(normals_field, normals_gt.unsqueeze(-2)).item())\n",
    "    # if epoch % 50 == 0:\n",
    "    #     euler = pcl_with_frames.differentiable_euler_number(frames_field)\n",
    "    loop.set_description('Loss: {:.8f}'.format(Loss.item())+', area: {:.2f}'.format(voronoi_area_list.sum().item())+', euler: {:.2f}'.format(euler.item()))\n",
    "\n",
    "    \n",
    "    Loss.backward()\n",
    "    optimizer.step()\n",
    "    scheduler.step()\n",
    "\n",
    "\n",
    "\n",
    "    "
   ]
  },
  {
   "cell_type": "markdown",
   "metadata": {},
   "source": []
  },
  {
   "cell_type": "code",
   "execution_count": 16,
   "metadata": {},
   "outputs": [],
   "source": [
    "# occupancy_current[:2001]"
   ]
  },
  {
   "cell_type": "code",
   "execution_count": null,
   "metadata": {},
   "outputs": [],
   "source": []
  },
  {
   "cell_type": "code",
   "execution_count": null,
   "metadata": {},
   "outputs": [],
   "source": []
  },
  {
   "cell_type": "code",
   "execution_count": 22,
   "metadata": {},
   "outputs": [
    {
     "data": {
      "image/png": "[encoded data removed]",
      "text/plain": [
       "<Figure size 640x480 with 2 Axes>"
      ]
     },
     "metadata": {},
     "output_type": "display_data"
    }
   ],
   "source": [
    "from matplotlib import cm, collections\n",
    "import numpy as np\n",
    "import matplotlib.pyplot as plt\n",
    "import mpl_toolkits.axisartist as AA\n",
    "euler_curves = np.array(euler_curves)\n",
    "error = np.abs(euler_curves - (-4.0))\n",
    "\n",
    "fig = plt.figure()\n",
    "ax = fig.add_subplot(axes_class=AA.Axes)\n",
    "ax.axis[\"right\"].set_visible(False)\n",
    "ax.axis[\"top\"].set_visible(False)\n",
    "\n",
    "ax.axis[\"left\"].set_visible(False)\n",
    "ax.axis[\"bottom\"].set_visible(False)\n",
    "\n",
    "gt_value = -4\n",
    "\n",
    "ax.axis[\"y=0\"] = ax.new_floating_axis(nth_coord=0, value= gt_value-0.5)\n",
    "ax.axis[\"y=0\"].set_axisline_style(\"-|>\", size=1.5)\n",
    "ax.axis[\"y=0\"].line.set_color(\"steelblue\")\n",
    "\n",
    "\n",
    "ax.axis[\"x=0\"] = ax.new_floating_axis(nth_coord=1, value=-1)\n",
    "ax.axis[\"x=0\"].set_axisline_style(\"-|>\", size=1.5)\n",
    "ax.axis[\"x=0\"].line.set_color(\"steelblue\")\n",
    "ax.axis[\"x=0\"].label.set_text(\"Euler\")\n",
    "ax.axis[\"x=0\"].toggle(all=True)\n",
    "\n",
    "ax.axis[\"y=01\"] = ax.new_floating_axis(nth_coord=0, value=gt_value)\n",
    "# ax.axis[\"y=01\"].set_axisline_style(\"-.-\", size=1.5)\n",
    "ax.axis[\"y=01\"].line.set_color(\"green\")\n",
    "ax.axis[\"y=01\"].toggle(all=False)\n",
    "ax.axis[\"y=01\"].label.set_text(\"GT\")\n",
    "\n",
    "ax.axis[\"y=01\"].line.set_linestyle(\"-.\")\n",
    "ax.axis[\"y=01\"].line.set_linewidth(1)\n",
    "ax.axis[\"y=01\"].line.set_alpha(0.5)\n",
    "\n",
    "# 使用渐变颜色方案绘制渐变线\n",
    "x = np.arange(0, len(euler_curves))\n",
    "y = euler_curves\n",
    "points = np.array([x, y]).T.reshape(-1, 1, 2)\n",
    "segments = np.concatenate([points[:-1], points[1:]], axis=1)\n",
    "lc = collections.LineCollection(segments, cmap='Blues_r')\n",
    "lc.set_array(np.linspace(0, 1, len(x)))\n",
    "lc.set_linewidth(2)\n",
    "\n",
    "plt.gca().add_collection(lc)\n",
    "plt.xlim(x.min()-10, x.max())\n",
    "plt.ylim(gt_value-0.5, gt_value+0.5)\n",
    "plt.scatter(x, euler_curves, s=2, c=error, cmap='Blues')\n",
    "plt.colorbar(label='Error')\n",
    "plt.yticks(np.arange(gt_value-0.5, gt_value+0.5, 0.5))\n",
    "plt.xlabel('Iterations')\n",
    "\n",
    "plt.savefig('euler_curve_kitty.pdf', dpi=300, bbox_inches='tight')"
   ]
  },
  {
   "cell_type": "code",
   "execution_count": 24,
   "metadata": {},
   "outputs": [
    {
     "data": {
      "application/vnd.jupyter.widget-view+json": {
       "model_id": "e5de4e8a13224b0dbc8e0172c1cbace9",
       "version_major": 2,
       "version_minor": 0
      },
      "text/plain": [
       "EmbeddableWidget(value='<iframe srcdoc=\"<!DOCTYPE html>\\n<html>\\n  <head>\\n    <meta http-equiv=&quot;Content-…"
      ]
     },
     "metadata": {},
     "output_type": "display_data"
    }
   ],
   "source": [
    "pointscloud_np = pointscloud[0].detach().cpu().numpy()\n",
    "\n",
    "# visualize the moving frame \n",
    "pl = pv.Plotter(notebook=True)\n",
    "# pl.add_points(trg_mesh.verts_packed().detach().cpu().numpy(), color='r', opacity = 0)\n",
    "\n",
    "# pl.add_points(inside_points.detach().cpu().numpy(), color='g', opacity = 0.2)\n",
    "trg_trimesh = trimesh.Trimesh(trg_mesh.verts_packed().detach().cpu().numpy(), trg_mesh.faces_packed().detach().cpu().numpy())\n",
    "pl.add_mesh(trg_trimesh, color='white', opacity=1.)\n",
    "\n",
    "\n",
    "# pl.add_arrows(pointscloud_np, pcl_with_frames.frames_field[:,:,0,:].detach().cpu().numpy()[0], mag=0.03, color='r', opacity=0.1)\n",
    "# normal to RGB\n",
    "random_idx = torch.randperm(pointscloud.shape[1])[:1000]\n",
    "pl.add_arrows(pointscloud_np[random_idx], normals_gt[0].detach().cpu().numpy()[random_idx], mag=0.1, color='g', opacity=0.3)\n",
    "pl.add_arrows(pointscloud_np[random_idx], pcl_with_frames.frames_field[0,:,0,:].detach().cpu().numpy()[random_idx], mag=0.1, color='r', opacity=0.3)\n",
    "\n",
    "pl.show()"
   ]
  },
  {
   "cell_type": "code",
   "execution_count": 25,
   "metadata": {},
   "outputs": [
    {
     "data": {
      "application/vnd.jupyter.widget-view+json": {
       "model_id": "78e9d8d9a9444c8ea2761f78b46ce1e6",
       "version_major": 2,
       "version_minor": 0
      },
      "text/plain": [
       "EmbeddableWidget(value='<iframe srcdoc=\"<!DOCTYPE html>\\n<html>\\n  <head>\\n    <meta http-equiv=&quot;Content-…"
      ]
     },
     "metadata": {},
     "output_type": "display_data"
    }
   ],
   "source": [
    "pointscloud_np = pointscloud[0].detach().cpu().numpy()\n",
    "\n",
    "# visualize the moving frame \n",
    "pl = pv.Plotter(notebook=True)\n",
    "# pl.add_points(trg_mesh.verts_packed().detach().cpu().numpy(), color='r', opacity = 0)\n",
    "\n",
    "# pl.add_points(inside_points.detach().cpu().numpy(), color='g', opacity = 0.2)\n",
    "trg_trimesh = trimesh.Trimesh(trg_mesh.verts_packed().detach().cpu().numpy(), trg_mesh.faces_packed().detach().cpu().numpy())\n",
    "pl.add_mesh(trg_trimesh, color='white', opacity=1.)\n",
    "\n",
    "\n",
    "# pl.add_arrows(pointscloud_np, pcl_with_frames.frames_field[:,:,0,:].detach().cpu().numpy()[0], mag=0.03, color='r', opacity=0.1)\n",
    "# normal to RGB\n",
    "random_idx = torch.randperm(pointscloud.shape[1])[:1000]\n",
    "pl.add_arrows(pointscloud_np[random_idx], normals_gt[0].detach().cpu().numpy()[random_idx], mag=0.1, color='g', opacity=0.3)\n",
    "pl.add_arrows(pointscloud_np[random_idx], normals_field[0,:,0,:].detach().cpu().numpy()[random_idx], mag=0.1, color='b', opacity=0.3)\n",
    "\n",
    "pl.show()"
   ]
  },
  {
   "cell_type": "code",
   "execution_count": null,
   "metadata": {},
   "outputs": [
    {
     "data": {
      "text/plain": [
       "tensor(0.2087, device='cuda:0')"
      ]
     },
     "execution_count": 24,
     "metadata": {},
     "output_type": "execute_result"
    }
   ],
   "source": [
    "((-frames_field[0,:,0,:].detach()-normals_gt.detach())*(-normals_gt.detach())).sum(-1).mean()"
   ]
  },
  {
   "cell_type": "code",
   "execution_count": null,
   "metadata": {},
   "outputs": [
    {
     "data": {
      "text/plain": [
       "tensor(0.1721, device='cuda:0')"
      ]
     },
     "execution_count": 25,
     "metadata": {},
     "output_type": "execute_result"
    }
   ],
   "source": [
    "((-pcl_with_frames.frames_field[0,:,0,:].detach()-normals_gt.detach())*(-normals_gt.detach())).sum(-1).mean()"
   ]
  },
  {
   "cell_type": "code",
   "execution_count": 15,
   "metadata": {},
   "outputs": [],
   "source": [
    "import pymeshlab\n",
    "import numpy as np\n",
    "\n",
    "import torch\n",
    "import torch.nn as nn\n",
    "import torch.nn.functional as F\n",
    "import pytorch3d\n",
    "from pytorch3d.io import load_obj, save_obj, load_objs_as_meshes\n",
    "from pytorch3d.structures import Meshes, Pointclouds\n",
    "from pytorch3d.ops import sample_points_from_meshes, knn_points, estimate_pointcloud_normals, knn_gather, cubify\n",
    "\n",
    "import trimesh\n",
    "\n",
    "from torch_scatter import scatter\n",
    "\n",
    "from mpl_toolkits.mplot3d import Axes3D\n",
    "\n",
    "import matplotlib.pyplot as plt\n",
    "\n",
    "import pyvista as pv\n",
    "pv.start_xvfb()\n",
    "pv.set_jupyter_backend('html')\n",
    "\n",
    "import torch\n",
    "import pytorch3d \n",
    "from pytorch3d.ops import knn_points,knn_gather\n",
    "from pytorch3d.transforms import axis_angle_to_matrix, matrix_to_axis_angle\n",
    "\n",
    "\n",
    "from tqdm import tqdm\n",
    "\n",
    "from pytorch3d.utils import ico_sphere\n",
    "\n",
    "# # from pytorch3d.structures import Meshes\n",
    "\n",
    "# from .utils import one_hot_sparse"
   ]
  },
  {
   "cell_type": "code",
   "execution_count": 16,
   "metadata": {},
   "outputs": [],
   "source": [
    "trimesh_new = trimesh.load_mesh(\"./data_example/father.obj\")\n",
    "trimesh_new.show()\n",
    "points = pcl_with_frames.pointscloud[0].detach().cpu().numpy()\n",
    "trimesh_new.vertices = points\n",
    "trimesh_new.normals = normals_field[0,:,0,:].detach().cpu().numpy()"
   ]
  },
  {
   "cell_type": "code",
   "execution_count": 22,
   "metadata": {},
   "outputs": [
    {
     "ename": "FileNotFoundError",
     "evalue": "[Errno 2] No such file or directory",
     "output_type": "error",
     "traceback": [
      "\u001b[0;31m---------------------------------------------------------------------------\u001b[0m",
      "\u001b[0;31mFileNotFoundError\u001b[0m                         Traceback (most recent call last)",
      "Cell \u001b[0;32mIn[22], line 8\u001b[0m\n\u001b[1;32m      5\u001b[0m trimesh_new\u001b[38;5;241m.\u001b[39mnormals \u001b[38;5;241m=\u001b[39m normals_field[\u001b[38;5;241m0\u001b[39m,:,\u001b[38;5;241m0\u001b[39m,:]\u001b[38;5;241m.\u001b[39mdetach()\u001b[38;5;241m.\u001b[39mcpu()\u001b[38;5;241m.\u001b[39mnumpy()\n\u001b[1;32m      6\u001b[0m trimesh_new\u001b[38;5;241m.\u001b[39mfaces \u001b[38;5;241m=\u001b[39m np\u001b[38;5;241m.\u001b[39mzeros((\u001b[38;5;241m1\u001b[39m,\u001b[38;5;241m3\u001b[39m))\n\u001b[0;32m----> 8\u001b[0m \u001b[43mtrimesh_new\u001b[49m\u001b[38;5;241;43m.\u001b[39;49m\u001b[43mexport\u001b[49m\u001b[43m(\u001b[49m\u001b[38;5;124;43m\"\u001b[39;49m\u001b[38;5;124;43mtem.obj\u001b[39;49m\u001b[38;5;124;43m\"\u001b[39;49m\u001b[43m)\u001b[49m\n\u001b[1;32m     12\u001b[0m ms \u001b[38;5;241m=\u001b[39m pymeshlab\u001b[38;5;241m.\u001b[39mMeshSet()\n\u001b[1;32m     14\u001b[0m ms\u001b[38;5;241m.\u001b[39mload_new_mesh(\u001b[38;5;124m\"\u001b[39m\u001b[38;5;124mtem.obj\u001b[39m\u001b[38;5;124m\"\u001b[39m)\n",
      "File \u001b[0;32m~/anaconda3/envs/geometery3d/lib/python3.9/site-packages/trimesh/base.py:2862\u001b[0m, in \u001b[0;36mTrimesh.export\u001b[0;34m(self, file_obj, file_type, **kwargs)\u001b[0m\n\u001b[1;32m   2835\u001b[0m \u001b[38;5;28;01mdef\u001b[39;00m \u001b[38;5;21mexport\u001b[39m(\n\u001b[1;32m   2836\u001b[0m     \u001b[38;5;28mself\u001b[39m,\n\u001b[1;32m   2837\u001b[0m     file_obj\u001b[38;5;241m=\u001b[39m\u001b[38;5;28;01mNone\u001b[39;00m,\n\u001b[0;32m   (...)\u001b[0m\n\u001b[1;32m   2844\u001b[0m     Dict[\u001b[38;5;28mstr\u001b[39m, Union[Dict[\u001b[38;5;28mstr\u001b[39m, \u001b[38;5;28mstr\u001b[39m], Dict[\u001b[38;5;28mstr\u001b[39m, Union[\u001b[38;5;28mstr\u001b[39m, Tuple[\u001b[38;5;28mint\u001b[39m, \u001b[38;5;28mint\u001b[39m]]]]],\n\u001b[1;32m   2845\u001b[0m ]:\n\u001b[1;32m   2846\u001b[0m \u001b[38;5;250m    \u001b[39m\u001b[38;5;124;03m\"\"\"\u001b[39;00m\n\u001b[1;32m   2847\u001b[0m \u001b[38;5;124;03m    Export the current mesh to a file object.\u001b[39;00m\n\u001b[1;32m   2848\u001b[0m \u001b[38;5;124;03m    If file_obj is a filename, file will be written there.\u001b[39;00m\n\u001b[0;32m   (...)\u001b[0m\n\u001b[1;32m   2860\u001b[0m \u001b[38;5;124;03m      is passed this is not required.\u001b[39;00m\n\u001b[1;32m   2861\u001b[0m \u001b[38;5;124;03m    \"\"\"\u001b[39;00m\n\u001b[0;32m-> 2862\u001b[0m     \u001b[38;5;28;01mreturn\u001b[39;00m \u001b[43mexport_mesh\u001b[49m\u001b[43m(\u001b[49m\u001b[43mmesh\u001b[49m\u001b[38;5;241;43m=\u001b[39;49m\u001b[38;5;28;43mself\u001b[39;49m\u001b[43m,\u001b[49m\u001b[43m \u001b[49m\u001b[43mfile_obj\u001b[49m\u001b[38;5;241;43m=\u001b[39;49m\u001b[43mfile_obj\u001b[49m\u001b[43m,\u001b[49m\u001b[43m \u001b[49m\u001b[43mfile_type\u001b[49m\u001b[38;5;241;43m=\u001b[39;49m\u001b[43mfile_type\u001b[49m\u001b[43m,\u001b[49m\u001b[43m \u001b[49m\u001b[38;5;241;43m*\u001b[39;49m\u001b[38;5;241;43m*\u001b[39;49m\u001b[43mkwargs\u001b[49m\u001b[43m)\u001b[49m\n",
      "File \u001b[0;32m~/anaconda3/envs/geometery3d/lib/python3.9/site-packages/trimesh/exchange/export.py:54\u001b[0m, in \u001b[0;36mexport_mesh\u001b[0;34m(mesh, file_obj, file_type, resolver, **kwargs)\u001b[0m\n\u001b[1;32m     52\u001b[0m file_name \u001b[38;5;241m=\u001b[39m file_obj\n\u001b[1;32m     53\u001b[0m \u001b[38;5;66;03m# get full path of file before opening\u001b[39;00m\n\u001b[0;32m---> 54\u001b[0m file_path \u001b[38;5;241m=\u001b[39m \u001b[43mos\u001b[49m\u001b[38;5;241;43m.\u001b[39;49m\u001b[43mpath\u001b[49m\u001b[38;5;241;43m.\u001b[39;49m\u001b[43mabspath\u001b[49m\u001b[43m(\u001b[49m\u001b[43mos\u001b[49m\u001b[38;5;241;43m.\u001b[39;49m\u001b[43mpath\u001b[49m\u001b[38;5;241;43m.\u001b[39;49m\u001b[43mexpanduser\u001b[49m\u001b[43m(\u001b[49m\u001b[43mfile_obj\u001b[49m\u001b[43m)\u001b[49m\u001b[43m)\u001b[49m\n\u001b[1;32m     55\u001b[0m file_obj \u001b[38;5;241m=\u001b[39m \u001b[38;5;28mopen\u001b[39m(file_path, \u001b[38;5;124m\"\u001b[39m\u001b[38;5;124mwb\u001b[39m\u001b[38;5;124m\"\u001b[39m)\n\u001b[1;32m     56\u001b[0m \u001b[38;5;28;01mif\u001b[39;00m resolver \u001b[38;5;129;01mis\u001b[39;00m \u001b[38;5;28;01mNone\u001b[39;00m:\n\u001b[1;32m     57\u001b[0m     \u001b[38;5;66;03m# create a resolver which can write files to the path\u001b[39;00m\n",
      "File \u001b[0;32m~/anaconda3/envs/geometery3d/lib/python3.9/posixpath.py:380\u001b[0m, in \u001b[0;36mabspath\u001b[0;34m(path)\u001b[0m\n\u001b[1;32m    378\u001b[0m         cwd \u001b[38;5;241m=\u001b[39m os\u001b[38;5;241m.\u001b[39mgetcwdb()\n\u001b[1;32m    379\u001b[0m     \u001b[38;5;28;01melse\u001b[39;00m:\n\u001b[0;32m--> 380\u001b[0m         cwd \u001b[38;5;241m=\u001b[39m \u001b[43mos\u001b[49m\u001b[38;5;241;43m.\u001b[39;49m\u001b[43mgetcwd\u001b[49m\u001b[43m(\u001b[49m\u001b[43m)\u001b[49m\n\u001b[1;32m    381\u001b[0m     path \u001b[38;5;241m=\u001b[39m join(cwd, path)\n\u001b[1;32m    382\u001b[0m \u001b[38;5;28;01mreturn\u001b[39;00m normpath(path)\n",
      "\u001b[0;31mFileNotFoundError\u001b[0m: [Errno 2] No such file or directory"
     ]
    }
   ],
   "source": [
    "trimesh_new = trimesh.Trimesh(trg_mesh.verts_packed().detach().cpu().numpy(), trg_mesh.faces_packed().detach().cpu().numpy())\n",
    "trimesh_new.show()\n",
    "points = pcl_with_frames.pointscloud[0].detach().cpu().numpy()\n",
    "trimesh_new.vertices = points\n",
    "trimesh_new.normals = normals_field[0,:,0,:].detach().cpu().numpy()\n",
    "trimesh_new.faces = np.zeros((1,3))\n",
    "\n",
    "trimesh_new.export(\"tem.obj\")\n",
    "\n",
    "\n",
    "\n",
    "ms = pymeshlab.MeshSet()\n",
    "\n",
    "ms.load_new_mesh(\"tem.obj\")\n",
    "\n",
    "\n",
    "\n",
    "# ms.compute_normal_for_point_clouds()\n",
    "\n",
    "ms.generate_surface_reconstruction_screened_poisson()\n",
    "\n",
    "mesh = ms.current_mesh()\n",
    "\n",
    "\n",
    "# ms = pymeshlab.MeshSet()\n",
    "# ms.load_new_mesh(\"./data_example/kitty.obj\")\n",
    "# # ms.meshing_surface_subdivision_butterfly()\n",
    "# ms.meshing_remove_selected_faces()\n",
    "# ms.compute_curvature_principal_directions_per_vertex(method = 'Scale Dependent Quadric Fitting',curvcolormethod = 'Gaussian Curvature')\n",
    "\n",
    "# # get the value of the mean curvature\n",
    "# mesh = ms.current_mesh()\n",
    "# qarr = mesh.vertex_scalar_array()\n",
    "# print('Gaussian Curvature range:', qarr.min(), qarr.max())\n",
    "# q = np.percentile(qarr, [0.1, 0.9])\n",
    "\n",
    "# print('Gaussian Curvature range 90 percent:', q[0], q[1])\n",
    "\n",
    "\n",
    "# pl = pv.Plotter(notebook=True)\n",
    "# current_trimesh = trimesh.Trimesh(vertices=mesh.vertex_matrix(), faces=mesh.face_matrix())\n",
    "# pl.add_mesh(current_trimesh, scalars=qarr, cmap='jet')\n",
    "# pl.show()"
   ]
  },
  {
   "cell_type": "code",
   "execution_count": 21,
   "metadata": {},
   "outputs": [
    {
     "name": "stdout",
     "output_type": "stream",
     "text": [
      "\u001b[0;31mDocstring:\u001b[0m\n",
      "current_mesh(self: pymeshlab.pmeshlab.MeshSet) -> pymeshlab.pmeshlab.Mesh\n",
      "\n",
      "Returns the current mesh of the MeshSet. Raises a :py:exc:`PyMeshLabException` if the MeshSet has no current mesh (zero meshes).\n",
      "\u001b[0;31mType:\u001b[0m      method"
     ]
    }
   ],
   "source": [
    "ms.current_mesh?"
   ]
  },
  {
   "cell_type": "code",
   "execution_count": null,
   "metadata": {},
   "outputs": [],
   "source": []
  },
  {
   "cell_type": "code",
   "execution_count": null,
   "metadata": {},
   "outputs": [],
   "source": [
    "trimesh_new = trimesh.load_mesh(\"./data_example/father.obj\")\n",
    "trimesh_new.show()\n",
    "points = trimesh.sample.sample_surface(trimesh_new, 10000)[0]\n",
    "\n",
    "trimesh_new.vertices = points\n",
    "\n",
    "trimesh_new.faces = trimesh_new.facess[0:1]\n",
    "\n",
    "trimesh_new.export(\"./data_example/tem.obj\")\n",
    "\n",
    "\n",
    "\n",
    "ms = pymeshlab.MeshSet()\n",
    "\n",
    "ms.load_new_mesh(\"./data_example/tem.obj\")\n",
    "\n",
    "ms.meshing_remove_all_faces()\n",
    "\n",
    "\n",
    "ms.compute_normal_for_point_clouds()\n",
    "\n",
    "ms.generate_surface_reconstruction_screened_poisson()\n",
    "\n",
    "mesh = ms.current_mesh()"
   ]
  },
  {
   "cell_type": "code",
   "execution_count": null,
   "metadata": {},
   "outputs": [],
   "source": []
  }
 ],
 "metadata": {
  "kernelspec": {
   "display_name": "geometery3d",
   "language": "python",
   "name": "python3"
  },
  "language_info": {
   "codemirror_mode": {
    "name": "ipython",
    "version": 3
   },
   "file_extension": ".py",
   "mimetype": "text/x-python",
   "name": "python",
   "nbconvert_exporter": "python",
   "pygments_lexer": "ipython3",
   "version": "3.9.18"
  }
 },
 "nbformat": 4,
 "nbformat_minor": 2
}
