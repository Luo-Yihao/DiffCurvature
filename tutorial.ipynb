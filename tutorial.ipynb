{
 "cells": [
  {
   "cell_type": "code",
   "execution_count": 1,
   "metadata": {},
   "outputs": [],
   "source": [
    "\n",
    "import numpy as np\n",
    "\n",
    "import torch\n",
    "import pytorch3d\n",
    "from pytorch3d.io import load_obj, save_obj, load_objs_as_meshes\n",
    "from pytorch3d.structures import Meshes, Pointclouds\n",
    "from pytorch3d.ops import sample_points_from_meshes #,knn_points, estimate_pointcloud_normals, knn_gather\n",
    "\n",
    "import trimesh\n",
    "\n",
    "import pyvista as pv\n",
    "pv.start_xvfb()\n",
    "pv.set_jupyter_backend('html')\n"
   ]
  },
  {
   "cell_type": "code",
   "execution_count": 2,
   "metadata": {},
   "outputs": [],
   "source": [
    "from ops.utils import *\n",
    "from ops.mesh_geometry import *"
   ]
  },
  {
   "cell_type": "code",
   "execution_count": 3,
   "metadata": {},
   "outputs": [],
   "source": [
    "# Set the device\n",
    "if torch.cuda.is_available():\n",
    "    device = torch.device(\"cuda\")\n",
    "else:\n",
    "    device = torch.device(\"cpu\")"
   ]
  },
  {
   "attachments": {},
   "cell_type": "markdown",
   "metadata": {},
   "source": [
    "For Mesh"
   ]
  },
  {
   "cell_type": "code",
   "execution_count": 4,
   "metadata": {},
   "outputs": [
    {
     "name": "stderr",
     "output_type": "stream",
     "text": [
      "/home/yihao/anaconda3/envs/meshgpt_base/lib/python3.9/site-packages/pytorch3d/io/obj_io.py:548: UserWarning: Mtl file does not exist: data_example/Kitty.mtl\n",
      "  warnings.warn(f\"Mtl file does not exist: {f}\")\n"
     ]
    }
   ],
   "source": [
    "trg_mesh = load_objs_as_meshes([\"data_example/Kitty.obj\"], device=device)\n",
    "points_np = trg_mesh.verts_packed().cpu().numpy()\n",
    "faces_np = trg_mesh.faces_packed().cpu().numpy()\n",
    "mesh_np = trimesh.Trimesh(vertices=points_np, faces=faces_np)"
   ]
  },
  {
   "cell_type": "code",
   "execution_count": 5,
   "metadata": {},
   "outputs": [
    {
     "name": "stdout",
     "output_type": "stream",
     "text": [
      "Euler: tensor(-0.0011, device='cuda:0')\n"
     ]
    }
   ],
   "source": [
    "curvature, euler = gaussian_curvature(trg_mesh, return_topology=True)\n",
    "\n",
    "print('Euler:', euler)"
   ]
  },
  {
   "cell_type": "code",
   "execution_count": 6,
   "metadata": {},
   "outputs": [
    {
     "name": "stdout",
     "output_type": "stream",
     "text": [
      "Gauss-Bonnet theorem: integral of gaussian_curvature - 2*pi*X =  -0.006661891937255859\n"
     ]
    }
   ],
   "source": [
    "dual_area = dual_area_vertex(trg_mesh)\n",
    "curvature_vertex = curvature.view(1,-1)*dual_area.view(1,-1)\n",
    "# discrete Gauss-Bonnet theorem\n",
    "print(\"Gauss-Bonnet theorem: integral of gaussian_curvature - 2*pi*X = \",(curvature_vertex).sum().cpu().numpy() - 2*np.pi*mesh_np.euler_number)"
   ]
  },
  {
   "cell_type": "code",
   "execution_count": 7,
   "metadata": {},
   "outputs": [
    {
     "data": {
      "application/vnd.jupyter.widget-view+json": {
       "model_id": "bd4c077da1924cb9b3b62e382644ec77",
       "version_major": 2,
       "version_minor": 0
      },
      "text/plain": [
       "EmbeddableWidget(value='<iframe srcdoc=\"<!DOCTYPE html>\\n<html>\\n  <head>\\n    <meta http-equiv=&quot;Content-…"
      ]
     },
     "metadata": {},
     "output_type": "display_data"
    }
   ],
   "source": [
    "pl = pv.Plotter(notebook=True)\n",
    "\n",
    "rescaled_curv = torch.tanh(curvature_vertex*100)\n",
    "pl.add_mesh(mesh_np, scalars=rescaled_curv.cpu().numpy(), show_edges=True, edge_color='white', cmap='viridis', clim=[-1,1], line_width=0.001)\n",
    "\n",
    "pl.show()"
   ]
  },
  {
   "attachments": {},
   "cell_type": "markdown",
   "metadata": {},
   "source": [
    "For PCL"
   ]
  },
  {
   "cell_type": "code",
   "execution_count": 10,
   "metadata": {},
   "outputs": [],
   "source": [
    "from ops.pcl_geometry import *"
   ]
  },
  {
   "cell_type": "code",
   "execution_count": 11,
   "metadata": {},
   "outputs": [],
   "source": [
    "trg_mesh = normalize_mesh(trg_mesh)\n",
    "\n",
    "trg_mesh_trimesh = trimesh.Trimesh(trg_mesh.verts_packed().cpu().numpy(), trg_mesh.faces_packed().cpu().numpy())\n"
   ]
  },
  {
   "cell_type": "code",
   "execution_count": 18,
   "metadata": {},
   "outputs": [],
   "source": [
    "num_samples = 100000\n",
    "pointscloud, normals_gt = sample_points_from_meshes(trg_mesh, num_samples, return_normals=True)"
   ]
  },
  {
   "cell_type": "code",
   "execution_count": 19,
   "metadata": {},
   "outputs": [],
   "source": [
    "pcl_with_frames = Differentiable_Global_Geometry_PointCloud(pointscloud, k = 10, normals= normals_gt)\n",
    "\n",
    "gaussian_curvature = pcl_with_frames.gaussian_curvature().view(-1)\n",
    "\n",
    "# trace of the Weingarten map\n",
    "mean_curvature = pcl_with_frames.weingarten_fields().diagonal(offset=0, dim1=-1, dim2=-2).mean(-1).view(-1)\n",
    "\n",
    "area = pcl_with_frames.local_voronoi_area().view(-1)\n",
    "\n"
   ]
  },
  {
   "cell_type": "code",
   "execution_count": 20,
   "metadata": {},
   "outputs": [
    {
     "name": "stdout",
     "output_type": "stream",
     "text": [
      "Estimated Genus 1.0\n",
      "Estimated euler -0.27381613850593567\n",
      "Estimated Genus 1.0\n",
      "Estimated euler -0.17997273802757263\n",
      "Estimated Genus 1.0\n",
      "Estimated euler -0.10879017412662506\n",
      "Estimated Genus 1.0\n",
      "Estimated euler -0.08370624482631683\n",
      "Estimated Genus 1.0\n",
      "Estimated euler -0.029316892847418785\n"
     ]
    }
   ],
   "source": [
    "for i in range(5,10):\n",
    "    pcl_with_frames = Differentiable_Global_Geometry_PointCloud(pointscloud, k = 5*i, normals= normals_gt)\n",
    "    print('Estimated Genus',  1-torch.round(pcl_with_frames.differentiable_euler_number()[0]/2).item())\n",
    "\n",
    "    print('Estimated euler',  pcl_with_frames.differentiable_euler_number()[0].item())\n",
    "\n"
   ]
  },
  {
   "cell_type": "code",
   "execution_count": 15,
   "metadata": {},
   "outputs": [
    {
     "data": {
      "application/vnd.jupyter.widget-view+json": {
       "model_id": "6dae7ddfc966476796a732617432c700",
       "version_major": 2,
       "version_minor": 0
      },
      "text/plain": [
       "EmbeddableWidget(value='<iframe srcdoc=\"<!DOCTYPE html>\\n<html>\\n  <head>\\n    <meta http-equiv=&quot;Content-…"
      ]
     },
     "metadata": {},
     "output_type": "display_data"
    }
   ],
   "source": [
    "### Plot the point cloud with the estimated gaussian curvature\n",
    "pl = pv.Plotter(notebook=True)\n",
    "rescaled_curv = torch.tanh(gaussian_curvature*area*2000) # rescale the curvature for visualization\n",
    "pl.add_points(pcl_with_frames.pointscloud.detach().cpu().numpy()[0], scalars=rescaled_curv.detach().cpu().numpy(), point_size=5,cmap=\"viridis\")\n",
    "pl.show()"
   ]
  },
  {
   "cell_type": "code",
   "execution_count": 16,
   "metadata": {},
   "outputs": [
    {
     "data": {
      "application/vnd.jupyter.widget-view+json": {
       "model_id": "278c21cad1ec4b0caf8a2d5b8a0bf064",
       "version_major": 2,
       "version_minor": 0
      },
      "text/plain": [
       "EmbeddableWidget(value='<iframe srcdoc=\"<!DOCTYPE html>\\n<html>\\n  <head>\\n    <meta http-equiv=&quot;Content-…"
      ]
     },
     "metadata": {},
     "output_type": "display_data"
    }
   ],
   "source": [
    "### Plot the point cloud with the estimated mean curvature\n",
    "pl = pv.Plotter(notebook=True)\n",
    "rescaled_curv = torch.tanh(mean_curvature*area*2000) # rescale the curvature for visualization\n",
    "pl.add_points(pcl_with_frames.pointscloud.detach().cpu().numpy()[0], scalars=rescaled_curv.detach().cpu().numpy(), point_size=5,cmap=\"viridis\")\n",
    "pl.show()"
   ]
  }
 ],
 "metadata": {
  "kernelspec": {
   "display_name": "MedicalImage",
   "language": "python",
   "name": "python3"
  },
  "language_info": {
   "codemirror_mode": {
    "name": "ipython",
    "version": 3
   },
   "file_extension": ".py",
   "mimetype": "text/x-python",
   "name": "python",
   "nbconvert_exporter": "python",
   "pygments_lexer": "ipython3",
   "version": "3.9.18"
  },
  "orig_nbformat": 4
 },
 "nbformat": 4,
 "nbformat_minor": 2
}
