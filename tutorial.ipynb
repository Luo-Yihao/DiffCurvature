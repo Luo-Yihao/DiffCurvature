{
 "cells": [
  {
   "cell_type": "code",
   "execution_count": null,
   "metadata": {},
   "outputs": [],
   "source": [
    "\n",
    "import numpy as np\n",
    "\n",
    "import torch\n",
    "import pytorch3d\n",
    "from pytorch3d.io import load_obj, save_obj, load_objs_as_meshes\n",
    "from pytorch3d.structures import Meshes, Pointclouds\n",
    "from pytorch3d.ops import sample_points_from_meshes #,knn_points, estimate_pointcloud_normals, knn_gather\n",
    "\n",
    "import trimesh\n",
    "\n",
    "import pyvista as pv\n",
    "pv.start_xvfb()\n",
    "pv.set_jupyter_backend('html')\n"
   ]
  },
  {
   "cell_type": "code",
   "execution_count": null,
   "metadata": {},
   "outputs": [],
   "source": [
    "from ops.utils import *"
   ]
  },
  {
   "cell_type": "code",
   "execution_count": null,
   "metadata": {},
   "outputs": [],
   "source": [
    "# Set the device\n",
    "if torch.cuda.is_available():\n",
    "    device = torch.device(\"cuda\")\n",
    "else:\n",
    "    device = torch.device(\"cpu\")"
   ]
  },
  {
   "attachments": {},
   "cell_type": "markdown",
   "metadata": {},
   "source": [
    "For Mesh"
   ]
  },
  {
   "cell_type": "code",
   "execution_count": null,
   "metadata": {},
   "outputs": [],
   "source": [
    "from ops.mesh_geometry import *"
   ]
  },
  {
   "cell_type": "code",
   "execution_count": null,
   "metadata": {},
   "outputs": [],
   "source": [
    "trg_mesh = load_objs_as_meshes([\"kitty.obj\"], device=device)"
   ]
  },
  {
   "cell_type": "code",
   "execution_count": null,
   "metadata": {},
   "outputs": [],
   "source": [
    "points_np = trg_mesh.verts_packed().cpu().numpy()\n",
    "faces_np = trg_mesh.faces_packed().cpu().numpy()\n",
    "mesh_np = trimesh.Trimesh(vertices=points_np, faces=faces_np)"
   ]
  },
  {
   "cell_type": "code",
   "execution_count": null,
   "metadata": {},
   "outputs": [],
   "source": [
    "curvature, euler = gaussian_curvature(trg_mesh, return_topology=True)\n",
    "\n",
    "print('Euler:', euler)\n",
    "\n"
   ]
  },
  {
   "cell_type": "code",
   "execution_count": null,
   "metadata": {},
   "outputs": [],
   "source": [
    "dual_area = dual_area_vertex(trg_mesh)\n",
    "curvature_vertex = curvature.view(1,-1)*dual_area.view(1,-1)\n",
    "# discrete Gauss-Bonnet theorem\n",
    "print(\"Gauss-Bonnet theorem: integral of gaussian_curvature - 2*pi*X = \",(curvature_vertex).sum().cpu().numpy() - 2*np.pi*mesh_np.euler_number)"
   ]
  },
  {
   "cell_type": "code",
   "execution_count": null,
   "metadata": {},
   "outputs": [],
   "source": [
    "pl = pv.Plotter(notebook=True)\n",
    "\n",
    "rescaled_curv = torch.tanh(curvature_vertex*100)\n",
    "pl.add_mesh(mesh_np, scalars=rescaled_curv.cpu().numpy(), show_edges=True, edge_color='white', cmap='viridis', clim=[-1,1], line_width=0.001)\n",
    "\n",
    "pl.show()"
   ]
  },
  {
   "cell_type": "code",
   "execution_count": null,
   "metadata": {},
   "outputs": [],
   "source": []
  },
  {
   "attachments": {},
   "cell_type": "markdown",
   "metadata": {},
   "source": [
    "For PCL"
   ]
  },
  {
   "cell_type": "code",
   "execution_count": null,
   "metadata": {},
   "outputs": [],
   "source": [
    "from ops.pcl_geometry import *"
   ]
  },
  {
   "cell_type": "code",
   "execution_count": null,
   "metadata": {},
   "outputs": [],
   "source": [
    "device = torch.device(\"cuda:0\")\n",
    "\n",
    "\n",
    "trg_mesh = load_objs_as_meshes([\"kitty.obj\"], device=device)\n",
    "\n",
    "# trg_mesh = ico_sphere(5, device)\n",
    "\n",
    "trg_mesh = normalize_mesh(trg_mesh)"
   ]
  },
  {
   "cell_type": "code",
   "execution_count": null,
   "metadata": {},
   "outputs": [],
   "source": [
    "num_samples = 100000\n",
    "pointscloud, normals_gt = sample_points_from_meshes(trg_mesh, num_samples, return_normals=True)"
   ]
  },
  {
   "cell_type": "code",
   "execution_count": null,
   "metadata": {},
   "outputs": [],
   "source": [
    "pcl_with_frames = Differentiable_Global_Geometry_PointCloud(pointscloud, k = 10)\n",
    "\n",
    "gaussian_curvature = pcl_with_frames.gaussian_curvature().view(-1)\n",
    "\n",
    "# trace of the Weingarten map\n",
    "mean_curvature = pcl_with_frames.weingarten_fields().diagonal(offset=0, dim1=-1, dim2=-2).mean(-1).view(-1)\n",
    "\n",
    "area = pcl_with_frames.local_voronoi_area().view(-1)\n",
    "\n"
   ]
  },
  {
   "cell_type": "code",
   "execution_count": null,
   "metadata": {},
   "outputs": [],
   "source": [
    "for i in range(3,9):\n",
    "    pcl_with_frames = Differentiable_Global_Geometry_PointCloud(pointscloud, k = 10*i)\n",
    "    print('Estimated Genus',  1-torch.round(pcl_with_frames.differentiable_euler_number()).item()/2)\n",
    "\n",
    "    print('Estimated euler',  pcl_with_frames.differentiable_euler_number())\n"
   ]
  },
  {
   "cell_type": "code",
   "execution_count": null,
   "metadata": {},
   "outputs": [],
   "source": [
    "pl = pv.Plotter(notebook=True)\n",
    "rescaled_curv = torch.tanh(gaussian_curvature*area*200)\n",
    "pl.add_points(pcl_with_frames.pointscloud.detach().cpu().numpy()[0], scalars=rescaled_curv.detach().cpu().numpy(), point_size=5,cmap=\"viridis\")\n",
    "\n",
    "pl.show()"
   ]
  },
  {
   "cell_type": "code",
   "execution_count": null,
   "metadata": {},
   "outputs": [],
   "source": [
    "pl = pv.Plotter(notebook=True)\n",
    "rescaled_curv = torch.tanh(mean_curvature*area*2000)\n",
    "pl.add_points(pcl_with_frames.pointscloud.detach().cpu().numpy()[0], scalars=rescaled_curv.detach().cpu().numpy(), point_size=5,cmap=\"viridis\")\n",
    "pl.show()"
   ]
  },
  {
   "cell_type": "code",
   "execution_count": null,
   "metadata": {},
   "outputs": [],
   "source": [
    "pl"
   ]
  },
  {
   "cell_type": "code",
   "execution_count": null,
   "metadata": {},
   "outputs": [],
   "source": []
  }
 ],
 "metadata": {
  "kernelspec": {
   "display_name": "MedicalImage",
   "language": "python",
   "name": "python3"
  },
  "language_info": {
   "codemirror_mode": {
    "name": "ipython",
    "version": 3
   },
   "file_extension": ".py",
   "mimetype": "text/x-python",
   "name": "python",
   "nbconvert_exporter": "python",
   "pygments_lexer": "ipython3",
   "version": "3.9.18"
  },
  "orig_nbformat": 4
 },
 "nbformat": 4,
 "nbformat_minor": 2
}
